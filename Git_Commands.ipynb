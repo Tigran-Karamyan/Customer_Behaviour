{
 "cells": [
  {
   "cell_type": "markdown",
   "id": "3a9c6641",
   "metadata": {},
   "source": [
    "### Git Basic "
   ]
  },
  {
   "cell_type": "code",
   "execution_count": null,
   "id": "dd144a3e",
   "metadata": {},
   "outputs": [],
   "source": [
    "git clone https... -> Clone Remote Repository to your local env\n",
    "git status -> Show Modifications/Diff between local and remote \n",
    "git branch -a -> Check what kind of branches we have\n",
    "\n",
    "git checkout -b branchname -> Copy master into separate branch in local env\n",
    "git push --set-upstream origin/master -> Push your local branch to remote\n",
    "\n",
    "git add filename -> Add new or modified files to git (use . for all files) \n",
    "git commit -m \"message\" -> Commit your changes to git\n",
    "git push -> Send your local modified/new files to remote\n",
    "\n",
    "git pull -> Pull all kind of information from remote to local\n",
    "\n",
    "git push origin -d branchname -> Delete remote Branch\n",
    "git branch -d -> Delete local Branch \n",
    "\n",
    "git stash -> Save your local changes\n",
    "git unstash -> Apply your local changes "
   ]
  }
 ],
 "metadata": {
  "kernelspec": {
   "display_name": "Python 3 (ipykernel)",
   "language": "python",
   "name": "python3"
  },
  "language_info": {
   "codemirror_mode": {
    "name": "ipython",
    "version": 3
   },
   "file_extension": ".py",
   "mimetype": "text/x-python",
   "name": "python",
   "nbconvert_exporter": "python",
   "pygments_lexer": "ipython3",
   "version": "3.9.12"
  }
 },
 "nbformat": 4,
 "nbformat_minor": 5
}
