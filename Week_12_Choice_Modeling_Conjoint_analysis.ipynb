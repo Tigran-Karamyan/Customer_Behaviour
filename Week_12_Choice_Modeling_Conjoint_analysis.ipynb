{
 "cells": [
  {
   "cell_type": "markdown",
   "metadata": {},
   "source": [
    "# Choice Modeling: Conjoint Analysis"
   ]
  },
  {
   "cell_type": "markdown",
   "metadata": {},
   "source": [
    "A marketing manager faces a common problem—how do customers evaluate various tangible or intangible attributes offered by a particular product(ex TV)? Now, he or she will have to make a judgement about his preference for various attribute combinations such as brand image, flat screen, screen size, sound quality, picture quality, price of different models, and so on. Conjoint analysis provides an answer to this question. The main objective of conjoint analysis is to find out the attributes of the product that a respondent prefers most.\n",
    "<br>\n",
    "<br>\n",
    "Conjoint analysis determines the relative importance of various product attributes (attached by the consumers to different product attributes) and values (utilities) attached to different levels of these attributes.\n",
    "<br> <br>\n",
    "In fact, conjoint analysis asks the participants to give an overall evaluation of the product that vary systematically on a number of attributes.\n",
    "<br> <br>\n",
    "To formulate a problem, as a first step, a researcher must identify the various attributes and attribute levels.\n"
   ]
  },
  {
   "cell_type": "markdown",
   "metadata": {},
   "source": [
    "![](docs/cjoint.PNG)"
   ]
  },
  {
   "cell_type": "markdown",
   "metadata": {},
   "source": [
    "The conjoint analysis model can be represented by the following formula:\n"
   ]
  },
  {
   "cell_type": "markdown",
   "metadata": {},
   "source": [
    "![](docs/cjoinform.PNG)"
   ]
  },
  {
   "cell_type": "markdown",
   "metadata": {},
   "source": [
    "where U(x) is the utility of an alternative, uij the part-worth contribution (utility of jth level of ith attribute), ki the number of levels for attribute i, and m the number of attributes. xij = 1 if the jth level of the ith attribute is present and xij = 0 otherwise.\n",
    "<br> <br>\n",
    "Importance of an attribute (Ri) = [maximum(uij) − minimum(uij)]\n",
    "<br> \n",
    "\n",
    "To estimate the model, a variety of techniques are available. The most popular and widely applied technique is dummy variable regression technique. To analyse the conjoint analysis data, dummy variables are treated as independent or explanatory variables and preference rating obtained from the respondent is treated as dependent variable."
   ]
  },
  {
   "cell_type": "code",
   "execution_count": 1,
   "metadata": {},
   "outputs": [
    {
     "name": "stderr",
     "output_type": "stream",
     "text": [
      "C:\\Users\\tkaramyan\\Anaconda3.1\\lib\\site-packages\\numpy\\_distributor_init.py:32: UserWarning: loaded more than 1 DLL from .libs:\n",
      "C:\\Users\\tkaramyan\\Anaconda3.1\\lib\\site-packages\\numpy\\.libs\\libopenblas.WCDJNK7YVMPZQ2ME2ZZHJJRJ3JIKNDB7.gfortran-win_amd64.dll\n",
      "C:\\Users\\tkaramyan\\Anaconda3.1\\lib\\site-packages\\numpy\\.libs\\libopenblas.XWYDX2IKJW2NMTWSFYNGFUWKQU3LYTCZ.gfortran-win_amd64.dll\n",
      "  stacklevel=1)\n"
     ]
    }
   ],
   "source": [
    "import numpy as np\n",
    "import pandas as pd\n",
    "import statsmodels.api as sm\n",
    "import seaborn as sns\n",
    "import matplotlib.pyplot as plt"
   ]
  },
  {
   "cell_type": "code",
   "execution_count": 2,
   "metadata": {},
   "outputs": [],
   "source": [
    "df = pd.read_csv('data/candidate.tab', delimiter='\\t')"
   ]
  },
  {
   "cell_type": "code",
   "execution_count": 19,
   "metadata": {},
   "outputs": [
    {
     "data": {
      "text/plain": [
       "(3466, 11)"
      ]
     },
     "execution_count": 19,
     "metadata": {},
     "output_type": "execute_result"
    }
   ],
   "source": [
    "df.shape"
   ]
  },
  {
   "cell_type": "code",
   "execution_count": 4,
   "metadata": {},
   "outputs": [
    {
     "data": {
      "text/html": [
       "<div>\n",
       "<style scoped>\n",
       "    .dataframe tbody tr th:only-of-type {\n",
       "        vertical-align: middle;\n",
       "    }\n",
       "\n",
       "    .dataframe tbody tr th {\n",
       "        vertical-align: top;\n",
       "    }\n",
       "\n",
       "    .dataframe thead th {\n",
       "        text-align: right;\n",
       "    }\n",
       "</style>\n",
       "<table border=\"1\" class=\"dataframe\">\n",
       "  <thead>\n",
       "    <tr style=\"text-align: right;\">\n",
       "      <th></th>\n",
       "      <th>resID</th>\n",
       "      <th>atmilitary</th>\n",
       "      <th>atreligion</th>\n",
       "      <th>ated</th>\n",
       "      <th>atprof</th>\n",
       "      <th>atinc</th>\n",
       "      <th>atrace</th>\n",
       "      <th>atage</th>\n",
       "      <th>atmale</th>\n",
       "      <th>selected</th>\n",
       "      <th>rating</th>\n",
       "    </tr>\n",
       "  </thead>\n",
       "  <tbody>\n",
       "    <tr>\n",
       "      <th>count</th>\n",
       "      <td>3466.000000</td>\n",
       "      <td>3466.000000</td>\n",
       "      <td>3466.000000</td>\n",
       "      <td>3466.000000</td>\n",
       "      <td>3466.000000</td>\n",
       "      <td>3466.000000</td>\n",
       "      <td>3466.000000</td>\n",
       "      <td>3466.000000</td>\n",
       "      <td>3466.000000</td>\n",
       "      <td>3466.000000</td>\n",
       "      <td>3456.000000</td>\n",
       "    </tr>\n",
       "    <tr>\n",
       "      <th>mean</th>\n",
       "      <td>455.171379</td>\n",
       "      <td>1.498846</td>\n",
       "      <td>3.488748</td>\n",
       "      <td>3.581939</td>\n",
       "      <td>3.491633</td>\n",
       "      <td>3.496249</td>\n",
       "      <td>3.488459</td>\n",
       "      <td>3.502597</td>\n",
       "      <td>1.493653</td>\n",
       "      <td>0.500000</td>\n",
       "      <td>0.509838</td>\n",
       "    </tr>\n",
       "    <tr>\n",
       "      <th>std</th>\n",
       "      <td>252.867078</td>\n",
       "      <td>0.500071</td>\n",
       "      <td>1.712703</td>\n",
       "      <td>1.729235</td>\n",
       "      <td>1.701392</td>\n",
       "      <td>1.705136</td>\n",
       "      <td>1.700355</td>\n",
       "      <td>1.716945</td>\n",
       "      <td>0.500032</td>\n",
       "      <td>0.500072</td>\n",
       "      <td>0.246864</td>\n",
       "    </tr>\n",
       "    <tr>\n",
       "      <th>min</th>\n",
       "      <td>7.000000</td>\n",
       "      <td>1.000000</td>\n",
       "      <td>1.000000</td>\n",
       "      <td>1.000000</td>\n",
       "      <td>1.000000</td>\n",
       "      <td>1.000000</td>\n",
       "      <td>1.000000</td>\n",
       "      <td>1.000000</td>\n",
       "      <td>1.000000</td>\n",
       "      <td>0.000000</td>\n",
       "      <td>0.000000</td>\n",
       "    </tr>\n",
       "    <tr>\n",
       "      <th>25%</th>\n",
       "      <td>238.000000</td>\n",
       "      <td>1.000000</td>\n",
       "      <td>2.000000</td>\n",
       "      <td>2.000000</td>\n",
       "      <td>2.000000</td>\n",
       "      <td>2.000000</td>\n",
       "      <td>2.000000</td>\n",
       "      <td>2.000000</td>\n",
       "      <td>1.000000</td>\n",
       "      <td>0.000000</td>\n",
       "      <td>0.333333</td>\n",
       "    </tr>\n",
       "    <tr>\n",
       "      <th>50%</th>\n",
       "      <td>453.000000</td>\n",
       "      <td>1.000000</td>\n",
       "      <td>3.000000</td>\n",
       "      <td>4.000000</td>\n",
       "      <td>3.000000</td>\n",
       "      <td>3.000000</td>\n",
       "      <td>3.000000</td>\n",
       "      <td>3.000000</td>\n",
       "      <td>1.000000</td>\n",
       "      <td>0.500000</td>\n",
       "      <td>0.500000</td>\n",
       "    </tr>\n",
       "    <tr>\n",
       "      <th>75%</th>\n",
       "      <td>669.000000</td>\n",
       "      <td>2.000000</td>\n",
       "      <td>5.000000</td>\n",
       "      <td>5.000000</td>\n",
       "      <td>5.000000</td>\n",
       "      <td>5.000000</td>\n",
       "      <td>5.000000</td>\n",
       "      <td>5.000000</td>\n",
       "      <td>2.000000</td>\n",
       "      <td>1.000000</td>\n",
       "      <td>0.666667</td>\n",
       "    </tr>\n",
       "    <tr>\n",
       "      <th>max</th>\n",
       "      <td>900.000000</td>\n",
       "      <td>2.000000</td>\n",
       "      <td>6.000000</td>\n",
       "      <td>6.000000</td>\n",
       "      <td>6.000000</td>\n",
       "      <td>6.000000</td>\n",
       "      <td>6.000000</td>\n",
       "      <td>6.000000</td>\n",
       "      <td>2.000000</td>\n",
       "      <td>1.000000</td>\n",
       "      <td>1.000000</td>\n",
       "    </tr>\n",
       "  </tbody>\n",
       "</table>\n",
       "</div>"
      ],
      "text/plain": [
       "             resID   atmilitary   atreligion         ated       atprof  \\\n",
       "count  3466.000000  3466.000000  3466.000000  3466.000000  3466.000000   \n",
       "mean    455.171379     1.498846     3.488748     3.581939     3.491633   \n",
       "std     252.867078     0.500071     1.712703     1.729235     1.701392   \n",
       "min       7.000000     1.000000     1.000000     1.000000     1.000000   \n",
       "25%     238.000000     1.000000     2.000000     2.000000     2.000000   \n",
       "50%     453.000000     1.000000     3.000000     4.000000     3.000000   \n",
       "75%     669.000000     2.000000     5.000000     5.000000     5.000000   \n",
       "max     900.000000     2.000000     6.000000     6.000000     6.000000   \n",
       "\n",
       "             atinc       atrace        atage       atmale     selected  \\\n",
       "count  3466.000000  3466.000000  3466.000000  3466.000000  3466.000000   \n",
       "mean      3.496249     3.488459     3.502597     1.493653     0.500000   \n",
       "std       1.705136     1.700355     1.716945     0.500032     0.500072   \n",
       "min       1.000000     1.000000     1.000000     1.000000     0.000000   \n",
       "25%       2.000000     2.000000     2.000000     1.000000     0.000000   \n",
       "50%       3.000000     3.000000     3.000000     1.000000     0.500000   \n",
       "75%       5.000000     5.000000     5.000000     2.000000     1.000000   \n",
       "max       6.000000     6.000000     6.000000     2.000000     1.000000   \n",
       "\n",
       "            rating  \n",
       "count  3456.000000  \n",
       "mean      0.509838  \n",
       "std       0.246864  \n",
       "min       0.000000  \n",
       "25%       0.333333  \n",
       "50%       0.500000  \n",
       "75%       0.666667  \n",
       "max       1.000000  "
      ]
     },
     "execution_count": 4,
     "metadata": {},
     "output_type": "execute_result"
    }
   ],
   "source": [
    "df.describe()"
   ]
  },
  {
   "cell_type": "code",
   "execution_count": 5,
   "metadata": {},
   "outputs": [
    {
     "data": {
      "text/plain": [
       "1    1737\n",
       "2    1729\n",
       "Name: atmilitary, dtype: int64"
      ]
     },
     "execution_count": 5,
     "metadata": {},
     "output_type": "execute_result"
    }
   ],
   "source": [
    "df.atmilitary.value_counts()"
   ]
  },
  {
   "cell_type": "code",
   "execution_count": 6,
   "metadata": {},
   "outputs": [
    {
     "data": {
      "text/plain": [
       "1    590\n",
       "3    588\n",
       "6    580\n",
       "2    571\n",
       "4    569\n",
       "5    568\n",
       "Name: atreligion, dtype: int64"
      ]
     },
     "execution_count": 6,
     "metadata": {},
     "output_type": "execute_result"
    }
   ],
   "source": [
    "df.atreligion.value_counts()"
   ]
  },
  {
   "cell_type": "code",
   "execution_count": 7,
   "metadata": {},
   "outputs": [
    {
     "data": {
      "text/plain": [
       "6    640\n",
       "4    598\n",
       "5    588\n",
       "1    574\n",
       "3    537\n",
       "2    529\n",
       "Name: ated, dtype: int64"
      ]
     },
     "execution_count": 7,
     "metadata": {},
     "output_type": "execute_result"
    }
   ],
   "source": [
    "df.ated.value_counts()"
   ]
  },
  {
   "cell_type": "code",
   "execution_count": 8,
   "metadata": {},
   "outputs": [
    {
     "data": {
      "text/plain": [
       "3    603\n",
       "4    591\n",
       "1    580\n",
       "6    575\n",
       "2    562\n",
       "5    555\n",
       "Name: atprof, dtype: int64"
      ]
     },
     "execution_count": 8,
     "metadata": {},
     "output_type": "execute_result"
    }
   ],
   "source": [
    "df.atprof.value_counts()"
   ]
  },
  {
   "cell_type": "code",
   "execution_count": 9,
   "metadata": {},
   "outputs": [
    {
     "data": {
      "text/plain": [
       "3    617\n",
       "1    598\n",
       "5    591\n",
       "4    569\n",
       "6    564\n",
       "2    527\n",
       "Name: atinc, dtype: int64"
      ]
     },
     "execution_count": 9,
     "metadata": {},
     "output_type": "execute_result"
    }
   ],
   "source": [
    "df.atinc.value_counts()"
   ]
  },
  {
   "cell_type": "code",
   "execution_count": 10,
   "metadata": {},
   "outputs": [
    {
     "data": {
      "text/plain": [
       "3    617\n",
       "5    591\n",
       "2    577\n",
       "1    573\n",
       "6    563\n",
       "4    545\n",
       "Name: atrace, dtype: int64"
      ]
     },
     "execution_count": 10,
     "metadata": {},
     "output_type": "execute_result"
    }
   ],
   "source": [
    "df.atrace.value_counts()"
   ]
  },
  {
   "cell_type": "code",
   "execution_count": 11,
   "metadata": {},
   "outputs": [
    {
     "data": {
      "text/plain": [
       "1    601\n",
       "3    595\n",
       "5    592\n",
       "6    580\n",
       "4    559\n",
       "2    539\n",
       "Name: atage, dtype: int64"
      ]
     },
     "execution_count": 11,
     "metadata": {},
     "output_type": "execute_result"
    }
   ],
   "source": [
    "df.atage.value_counts()"
   ]
  },
  {
   "cell_type": "code",
   "execution_count": 15,
   "metadata": {},
   "outputs": [
    {
     "data": {
      "text/plain": [
       "1    1755\n",
       "2    1711\n",
       "Name: atmale, dtype: int64"
      ]
     },
     "execution_count": 15,
     "metadata": {},
     "output_type": "execute_result"
    }
   ],
   "source": [
    "df.atmale.value_counts()"
   ]
  },
  {
   "cell_type": "code",
   "execution_count": 16,
   "metadata": {},
   "outputs": [
    {
     "data": {
      "text/plain": [
       "(3466, 11)"
      ]
     },
     "execution_count": 16,
     "metadata": {},
     "output_type": "execute_result"
    }
   ],
   "source": [
    "df.shape"
   ]
  },
  {
   "cell_type": "code",
   "execution_count": 17,
   "metadata": {},
   "outputs": [
    {
     "data": {
      "text/plain": [
       "resID          0\n",
       "atmilitary     0\n",
       "atreligion     0\n",
       "ated           0\n",
       "atprof         0\n",
       "atinc          0\n",
       "atrace         0\n",
       "atage          0\n",
       "atmale         0\n",
       "selected       0\n",
       "rating        10\n",
       "dtype: int64"
      ]
     },
     "execution_count": 17,
     "metadata": {},
     "output_type": "execute_result"
    }
   ],
   "source": [
    "df.isnull().sum()"
   ]
  },
  {
   "cell_type": "code",
   "execution_count": 20,
   "metadata": {},
   "outputs": [],
   "source": [
    "# remove empty data\n",
    "clean_df = df.dropna()"
   ]
  },
  {
   "cell_type": "code",
   "execution_count": 21,
   "metadata": {},
   "outputs": [],
   "source": [
    "y = clean_df['selected']\n",
    "x = clean_df[[x for x in df.columns if x not in ['selected', 'resID', 'rating']]]"
   ]
  },
  {
   "cell_type": "code",
   "execution_count": 22,
   "metadata": {},
   "outputs": [
    {
     "data": {
      "text/html": [
       "<div>\n",
       "<style scoped>\n",
       "    .dataframe tbody tr th:only-of-type {\n",
       "        vertical-align: middle;\n",
       "    }\n",
       "\n",
       "    .dataframe tbody tr th {\n",
       "        vertical-align: top;\n",
       "    }\n",
       "\n",
       "    .dataframe thead th {\n",
       "        text-align: right;\n",
       "    }\n",
       "</style>\n",
       "<table border=\"1\" class=\"dataframe\">\n",
       "  <thead>\n",
       "    <tr style=\"text-align: right;\">\n",
       "      <th></th>\n",
       "      <th>atmilitary_1</th>\n",
       "      <th>atmilitary_2</th>\n",
       "      <th>atreligion_1</th>\n",
       "      <th>atreligion_2</th>\n",
       "      <th>atreligion_3</th>\n",
       "      <th>atreligion_4</th>\n",
       "      <th>atreligion_5</th>\n",
       "      <th>atreligion_6</th>\n",
       "      <th>ated_1</th>\n",
       "      <th>ated_2</th>\n",
       "      <th>...</th>\n",
       "      <th>atrace_5</th>\n",
       "      <th>atrace_6</th>\n",
       "      <th>atage_1</th>\n",
       "      <th>atage_2</th>\n",
       "      <th>atage_3</th>\n",
       "      <th>atage_4</th>\n",
       "      <th>atage_5</th>\n",
       "      <th>atage_6</th>\n",
       "      <th>atmale_1</th>\n",
       "      <th>atmale_2</th>\n",
       "    </tr>\n",
       "  </thead>\n",
       "  <tbody>\n",
       "    <tr>\n",
       "      <th>0</th>\n",
       "      <td>1</td>\n",
       "      <td>0</td>\n",
       "      <td>0</td>\n",
       "      <td>0</td>\n",
       "      <td>0</td>\n",
       "      <td>0</td>\n",
       "      <td>0</td>\n",
       "      <td>1</td>\n",
       "      <td>0</td>\n",
       "      <td>0</td>\n",
       "      <td>...</td>\n",
       "      <td>0</td>\n",
       "      <td>0</td>\n",
       "      <td>0</td>\n",
       "      <td>0</td>\n",
       "      <td>0</td>\n",
       "      <td>0</td>\n",
       "      <td>0</td>\n",
       "      <td>1</td>\n",
       "      <td>0</td>\n",
       "      <td>1</td>\n",
       "    </tr>\n",
       "    <tr>\n",
       "      <th>1</th>\n",
       "      <td>0</td>\n",
       "      <td>1</td>\n",
       "      <td>1</td>\n",
       "      <td>0</td>\n",
       "      <td>0</td>\n",
       "      <td>0</td>\n",
       "      <td>0</td>\n",
       "      <td>0</td>\n",
       "      <td>1</td>\n",
       "      <td>0</td>\n",
       "      <td>...</td>\n",
       "      <td>0</td>\n",
       "      <td>1</td>\n",
       "      <td>0</td>\n",
       "      <td>0</td>\n",
       "      <td>0</td>\n",
       "      <td>1</td>\n",
       "      <td>0</td>\n",
       "      <td>0</td>\n",
       "      <td>1</td>\n",
       "      <td>0</td>\n",
       "    </tr>\n",
       "    <tr>\n",
       "      <th>2</th>\n",
       "      <td>1</td>\n",
       "      <td>0</td>\n",
       "      <td>0</td>\n",
       "      <td>0</td>\n",
       "      <td>1</td>\n",
       "      <td>0</td>\n",
       "      <td>0</td>\n",
       "      <td>0</td>\n",
       "      <td>0</td>\n",
       "      <td>0</td>\n",
       "      <td>...</td>\n",
       "      <td>0</td>\n",
       "      <td>0</td>\n",
       "      <td>0</td>\n",
       "      <td>0</td>\n",
       "      <td>0</td>\n",
       "      <td>0</td>\n",
       "      <td>1</td>\n",
       "      <td>0</td>\n",
       "      <td>0</td>\n",
       "      <td>1</td>\n",
       "    </tr>\n",
       "    <tr>\n",
       "      <th>3</th>\n",
       "      <td>0</td>\n",
       "      <td>1</td>\n",
       "      <td>0</td>\n",
       "      <td>0</td>\n",
       "      <td>0</td>\n",
       "      <td>1</td>\n",
       "      <td>0</td>\n",
       "      <td>0</td>\n",
       "      <td>0</td>\n",
       "      <td>0</td>\n",
       "      <td>...</td>\n",
       "      <td>0</td>\n",
       "      <td>0</td>\n",
       "      <td>0</td>\n",
       "      <td>0</td>\n",
       "      <td>0</td>\n",
       "      <td>0</td>\n",
       "      <td>0</td>\n",
       "      <td>1</td>\n",
       "      <td>1</td>\n",
       "      <td>0</td>\n",
       "    </tr>\n",
       "    <tr>\n",
       "      <th>4</th>\n",
       "      <td>0</td>\n",
       "      <td>1</td>\n",
       "      <td>1</td>\n",
       "      <td>0</td>\n",
       "      <td>0</td>\n",
       "      <td>0</td>\n",
       "      <td>0</td>\n",
       "      <td>0</td>\n",
       "      <td>0</td>\n",
       "      <td>1</td>\n",
       "      <td>...</td>\n",
       "      <td>0</td>\n",
       "      <td>0</td>\n",
       "      <td>0</td>\n",
       "      <td>1</td>\n",
       "      <td>0</td>\n",
       "      <td>0</td>\n",
       "      <td>0</td>\n",
       "      <td>0</td>\n",
       "      <td>0</td>\n",
       "      <td>1</td>\n",
       "    </tr>\n",
       "  </tbody>\n",
       "</table>\n",
       "<p>5 rows × 40 columns</p>\n",
       "</div>"
      ],
      "text/plain": [
       "   atmilitary_1  atmilitary_2  atreligion_1  atreligion_2  atreligion_3  \\\n",
       "0             1             0             0             0             0   \n",
       "1             0             1             1             0             0   \n",
       "2             1             0             0             0             1   \n",
       "3             0             1             0             0             0   \n",
       "4             0             1             1             0             0   \n",
       "\n",
       "   atreligion_4  atreligion_5  atreligion_6  ated_1  ated_2  ...  atrace_5  \\\n",
       "0             0             0             1       0       0  ...         0   \n",
       "1             0             0             0       1       0  ...         0   \n",
       "2             0             0             0       0       0  ...         0   \n",
       "3             1             0             0       0       0  ...         0   \n",
       "4             0             0             0       0       1  ...         0   \n",
       "\n",
       "   atrace_6  atage_1  atage_2  atage_3  atage_4  atage_5  atage_6  atmale_1  \\\n",
       "0         0        0        0        0        0        0        1         0   \n",
       "1         1        0        0        0        1        0        0         1   \n",
       "2         0        0        0        0        0        1        0         0   \n",
       "3         0        0        0        0        0        0        1         1   \n",
       "4         0        0        1        0        0        0        0         0   \n",
       "\n",
       "   atmale_2  \n",
       "0         1  \n",
       "1         0  \n",
       "2         1  \n",
       "3         0  \n",
       "4         1  \n",
       "\n",
       "[5 rows x 40 columns]"
      ]
     },
     "execution_count": 22,
     "metadata": {},
     "output_type": "execute_result"
    }
   ],
   "source": [
    "xdum = pd.get_dummies(x, columns=[c for c in x.columns if c != 'selected'], )\n",
    "xdum.head()"
   ]
  },
  {
   "cell_type": "code",
   "execution_count": 23,
   "metadata": {},
   "outputs": [
    {
     "data": {
      "text/html": [
       "<table class=\"simpletable\">\n",
       "<caption>OLS Regression Results</caption>\n",
       "<tr>\n",
       "  <th>Dep. Variable:</th>        <td>selected</td>     <th>  R-squared:         </th> <td>   0.091</td>\n",
       "</tr>\n",
       "<tr>\n",
       "  <th>Model:</th>                   <td>OLS</td>       <th>  Adj. R-squared:    </th> <td>   0.082</td>\n",
       "</tr>\n",
       "<tr>\n",
       "  <th>Method:</th>             <td>Least Squares</td>  <th>  F-statistic:       </th> <td>   10.69</td>\n",
       "</tr>\n",
       "<tr>\n",
       "  <th>Date:</th>             <td>Sat, 14 May 2022</td> <th>  Prob (F-statistic):</th> <td>1.04e-50</td>\n",
       "</tr>\n",
       "<tr>\n",
       "  <th>Time:</th>                 <td>10:33:51</td>     <th>  Log-Likelihood:    </th> <td> -2343.7</td>\n",
       "</tr>\n",
       "<tr>\n",
       "  <th>No. Observations:</th>      <td>  3456</td>      <th>  AIC:               </th> <td>   4753.</td>\n",
       "</tr>\n",
       "<tr>\n",
       "  <th>Df Residuals:</th>          <td>  3423</td>      <th>  BIC:               </th> <td>   4956.</td>\n",
       "</tr>\n",
       "<tr>\n",
       "  <th>Df Model:</th>              <td>    32</td>      <th>                     </th>     <td> </td>   \n",
       "</tr>\n",
       "<tr>\n",
       "  <th>Covariance Type:</th>      <td>nonrobust</td>    <th>                     </th>     <td> </td>   \n",
       "</tr>\n",
       "</table>\n",
       "<table class=\"simpletable\">\n",
       "<tr>\n",
       "        <td></td>          <th>coef</th>     <th>std err</th>      <th>t</th>      <th>P>|t|</th>  <th>[0.025</th>    <th>0.975]</th>  \n",
       "</tr>\n",
       "<tr>\n",
       "  <th>atmilitary_1</th> <td>-4.923e+11</td> <td> 4.68e+11</td> <td>   -1.051</td> <td> 0.293</td> <td>-1.41e+12</td> <td> 4.26e+11</td>\n",
       "</tr>\n",
       "<tr>\n",
       "  <th>atmilitary_2</th> <td>-4.923e+11</td> <td> 4.68e+11</td> <td>   -1.051</td> <td> 0.293</td> <td>-1.41e+12</td> <td> 4.26e+11</td>\n",
       "</tr>\n",
       "<tr>\n",
       "  <th>atreligion_1</th> <td> 5.662e+11</td> <td> 5.39e+11</td> <td>    1.051</td> <td> 0.293</td> <td> -4.9e+11</td> <td> 1.62e+12</td>\n",
       "</tr>\n",
       "<tr>\n",
       "  <th>atreligion_2</th> <td> 5.662e+11</td> <td> 5.39e+11</td> <td>    1.051</td> <td> 0.293</td> <td> -4.9e+11</td> <td> 1.62e+12</td>\n",
       "</tr>\n",
       "<tr>\n",
       "  <th>atreligion_3</th> <td> 5.662e+11</td> <td> 5.39e+11</td> <td>    1.051</td> <td> 0.293</td> <td> -4.9e+11</td> <td> 1.62e+12</td>\n",
       "</tr>\n",
       "<tr>\n",
       "  <th>atreligion_4</th> <td> 5.662e+11</td> <td> 5.39e+11</td> <td>    1.051</td> <td> 0.293</td> <td> -4.9e+11</td> <td> 1.62e+12</td>\n",
       "</tr>\n",
       "<tr>\n",
       "  <th>atreligion_5</th> <td> 5.662e+11</td> <td> 5.39e+11</td> <td>    1.051</td> <td> 0.293</td> <td> -4.9e+11</td> <td> 1.62e+12</td>\n",
       "</tr>\n",
       "<tr>\n",
       "  <th>atreligion_6</th> <td> 5.662e+11</td> <td> 5.39e+11</td> <td>    1.051</td> <td> 0.293</td> <td> -4.9e+11</td> <td> 1.62e+12</td>\n",
       "</tr>\n",
       "<tr>\n",
       "  <th>ated_1</th>       <td>-5.011e+11</td> <td> 4.77e+11</td> <td>   -1.051</td> <td> 0.293</td> <td>-1.44e+12</td> <td> 4.34e+11</td>\n",
       "</tr>\n",
       "<tr>\n",
       "  <th>ated_2</th>       <td>-5.011e+11</td> <td> 4.77e+11</td> <td>   -1.051</td> <td> 0.293</td> <td>-1.44e+12</td> <td> 4.34e+11</td>\n",
       "</tr>\n",
       "<tr>\n",
       "  <th>ated_3</th>       <td>-5.011e+11</td> <td> 4.77e+11</td> <td>   -1.051</td> <td> 0.293</td> <td>-1.44e+12</td> <td> 4.34e+11</td>\n",
       "</tr>\n",
       "<tr>\n",
       "  <th>ated_4</th>       <td>-5.011e+11</td> <td> 4.77e+11</td> <td>   -1.051</td> <td> 0.293</td> <td>-1.44e+12</td> <td> 4.34e+11</td>\n",
       "</tr>\n",
       "<tr>\n",
       "  <th>ated_5</th>       <td>-5.011e+11</td> <td> 4.77e+11</td> <td>   -1.051</td> <td> 0.293</td> <td>-1.44e+12</td> <td> 4.34e+11</td>\n",
       "</tr>\n",
       "<tr>\n",
       "  <th>ated_6</th>       <td>-5.011e+11</td> <td> 4.77e+11</td> <td>   -1.051</td> <td> 0.293</td> <td>-1.44e+12</td> <td> 4.34e+11</td>\n",
       "</tr>\n",
       "<tr>\n",
       "  <th>atprof_1</th>     <td>-3.067e+11</td> <td> 2.92e+11</td> <td>   -1.051</td> <td> 0.293</td> <td>-8.79e+11</td> <td> 2.65e+11</td>\n",
       "</tr>\n",
       "<tr>\n",
       "  <th>atprof_2</th>     <td>-3.067e+11</td> <td> 2.92e+11</td> <td>   -1.051</td> <td> 0.293</td> <td>-8.79e+11</td> <td> 2.65e+11</td>\n",
       "</tr>\n",
       "<tr>\n",
       "  <th>atprof_3</th>     <td>-3.067e+11</td> <td> 2.92e+11</td> <td>   -1.051</td> <td> 0.293</td> <td>-8.79e+11</td> <td> 2.65e+11</td>\n",
       "</tr>\n",
       "<tr>\n",
       "  <th>atprof_4</th>     <td>-3.067e+11</td> <td> 2.92e+11</td> <td>   -1.051</td> <td> 0.293</td> <td>-8.79e+11</td> <td> 2.65e+11</td>\n",
       "</tr>\n",
       "<tr>\n",
       "  <th>atprof_5</th>     <td>-3.067e+11</td> <td> 2.92e+11</td> <td>   -1.051</td> <td> 0.293</td> <td>-8.79e+11</td> <td> 2.65e+11</td>\n",
       "</tr>\n",
       "<tr>\n",
       "  <th>atprof_6</th>     <td>-3.067e+11</td> <td> 2.92e+11</td> <td>   -1.051</td> <td> 0.293</td> <td>-8.79e+11</td> <td> 2.65e+11</td>\n",
       "</tr>\n",
       "<tr>\n",
       "  <th>atinc_1</th>      <td>  -3.8e+11</td> <td> 3.61e+11</td> <td>   -1.051</td> <td> 0.293</td> <td>-1.09e+12</td> <td> 3.29e+11</td>\n",
       "</tr>\n",
       "<tr>\n",
       "  <th>atinc_2</th>      <td>  -3.8e+11</td> <td> 3.61e+11</td> <td>   -1.051</td> <td> 0.293</td> <td>-1.09e+12</td> <td> 3.29e+11</td>\n",
       "</tr>\n",
       "<tr>\n",
       "  <th>atinc_3</th>      <td>  -3.8e+11</td> <td> 3.61e+11</td> <td>   -1.051</td> <td> 0.293</td> <td>-1.09e+12</td> <td> 3.29e+11</td>\n",
       "</tr>\n",
       "<tr>\n",
       "  <th>atinc_4</th>      <td>  -3.8e+11</td> <td> 3.61e+11</td> <td>   -1.051</td> <td> 0.293</td> <td>-1.09e+12</td> <td> 3.29e+11</td>\n",
       "</tr>\n",
       "<tr>\n",
       "  <th>atinc_5</th>      <td>  -3.8e+11</td> <td> 3.61e+11</td> <td>   -1.051</td> <td> 0.293</td> <td>-1.09e+12</td> <td> 3.29e+11</td>\n",
       "</tr>\n",
       "<tr>\n",
       "  <th>atinc_6</th>      <td>  -3.8e+11</td> <td> 3.61e+11</td> <td>   -1.051</td> <td> 0.293</td> <td>-1.09e+12</td> <td> 3.29e+11</td>\n",
       "</tr>\n",
       "<tr>\n",
       "  <th>atrace_1</th>     <td>-4.876e+11</td> <td> 4.64e+11</td> <td>   -1.051</td> <td> 0.293</td> <td> -1.4e+12</td> <td> 4.22e+11</td>\n",
       "</tr>\n",
       "<tr>\n",
       "  <th>atrace_2</th>     <td>-4.876e+11</td> <td> 4.64e+11</td> <td>   -1.051</td> <td> 0.293</td> <td> -1.4e+12</td> <td> 4.22e+11</td>\n",
       "</tr>\n",
       "<tr>\n",
       "  <th>atrace_3</th>     <td>-4.876e+11</td> <td> 4.64e+11</td> <td>   -1.051</td> <td> 0.293</td> <td> -1.4e+12</td> <td> 4.22e+11</td>\n",
       "</tr>\n",
       "<tr>\n",
       "  <th>atrace_4</th>     <td>-4.876e+11</td> <td> 4.64e+11</td> <td>   -1.051</td> <td> 0.293</td> <td> -1.4e+12</td> <td> 4.22e+11</td>\n",
       "</tr>\n",
       "<tr>\n",
       "  <th>atrace_5</th>     <td>-4.876e+11</td> <td> 4.64e+11</td> <td>   -1.051</td> <td> 0.293</td> <td> -1.4e+12</td> <td> 4.22e+11</td>\n",
       "</tr>\n",
       "<tr>\n",
       "  <th>atrace_6</th>     <td>-4.876e+11</td> <td> 4.64e+11</td> <td>   -1.051</td> <td> 0.293</td> <td> -1.4e+12</td> <td> 4.22e+11</td>\n",
       "</tr>\n",
       "<tr>\n",
       "  <th>atage_1</th>      <td>-4.451e+11</td> <td> 4.23e+11</td> <td>   -1.051</td> <td> 0.293</td> <td>-1.28e+12</td> <td> 3.85e+11</td>\n",
       "</tr>\n",
       "<tr>\n",
       "  <th>atage_2</th>      <td>-4.451e+11</td> <td> 4.23e+11</td> <td>   -1.051</td> <td> 0.293</td> <td>-1.28e+12</td> <td> 3.85e+11</td>\n",
       "</tr>\n",
       "<tr>\n",
       "  <th>atage_3</th>      <td>-4.451e+11</td> <td> 4.23e+11</td> <td>   -1.051</td> <td> 0.293</td> <td>-1.28e+12</td> <td> 3.85e+11</td>\n",
       "</tr>\n",
       "<tr>\n",
       "  <th>atage_4</th>      <td>-4.451e+11</td> <td> 4.23e+11</td> <td>   -1.051</td> <td> 0.293</td> <td>-1.28e+12</td> <td> 3.85e+11</td>\n",
       "</tr>\n",
       "<tr>\n",
       "  <th>atage_5</th>      <td>-4.451e+11</td> <td> 4.23e+11</td> <td>   -1.051</td> <td> 0.293</td> <td>-1.28e+12</td> <td> 3.85e+11</td>\n",
       "</tr>\n",
       "<tr>\n",
       "  <th>atage_6</th>      <td>-4.451e+11</td> <td> 4.23e+11</td> <td>   -1.051</td> <td> 0.293</td> <td>-1.28e+12</td> <td> 3.85e+11</td>\n",
       "</tr>\n",
       "<tr>\n",
       "  <th>atmale_1</th>     <td> 2.047e+12</td> <td> 1.95e+12</td> <td>    1.051</td> <td> 0.293</td> <td>-1.77e+12</td> <td> 5.86e+12</td>\n",
       "</tr>\n",
       "<tr>\n",
       "  <th>atmale_2</th>     <td> 2.047e+12</td> <td> 1.95e+12</td> <td>    1.051</td> <td> 0.293</td> <td>-1.77e+12</td> <td> 5.86e+12</td>\n",
       "</tr>\n",
       "</table>\n",
       "<table class=\"simpletable\">\n",
       "<tr>\n",
       "  <th>Omnibus:</th>       <td>16279.185</td> <th>  Durbin-Watson:     </th> <td>   2.873</td>\n",
       "</tr>\n",
       "<tr>\n",
       "  <th>Prob(Omnibus):</th>  <td> 0.000</td>   <th>  Jarque-Bera (JB):  </th> <td> 393.556</td>\n",
       "</tr>\n",
       "<tr>\n",
       "  <th>Skew:</th>           <td>-0.011</td>   <th>  Prob(JB):          </th> <td>3.47e-86</td>\n",
       "</tr>\n",
       "<tr>\n",
       "  <th>Kurtosis:</th>       <td> 1.347</td>   <th>  Cond. No.          </th> <td>8.56e+15</td>\n",
       "</tr>\n",
       "</table><br/><br/>Notes:<br/>[1] Standard Errors assume that the covariance matrix of the errors is correctly specified.<br/>[2] The smallest eigenvalue is 9.43e-29. This might indicate that there are<br/>strong multicollinearity problems or that the design matrix is singular."
      ],
      "text/plain": [
       "<class 'statsmodels.iolib.summary.Summary'>\n",
       "\"\"\"\n",
       "                            OLS Regression Results                            \n",
       "==============================================================================\n",
       "Dep. Variable:               selected   R-squared:                       0.091\n",
       "Model:                            OLS   Adj. R-squared:                  0.082\n",
       "Method:                 Least Squares   F-statistic:                     10.69\n",
       "Date:                Sat, 14 May 2022   Prob (F-statistic):           1.04e-50\n",
       "Time:                        10:33:51   Log-Likelihood:                -2343.7\n",
       "No. Observations:                3456   AIC:                             4753.\n",
       "Df Residuals:                    3423   BIC:                             4956.\n",
       "Df Model:                          32                                         \n",
       "Covariance Type:            nonrobust                                         \n",
       "================================================================================\n",
       "                   coef    std err          t      P>|t|      [0.025      0.975]\n",
       "--------------------------------------------------------------------------------\n",
       "atmilitary_1 -4.923e+11   4.68e+11     -1.051      0.293   -1.41e+12    4.26e+11\n",
       "atmilitary_2 -4.923e+11   4.68e+11     -1.051      0.293   -1.41e+12    4.26e+11\n",
       "atreligion_1  5.662e+11   5.39e+11      1.051      0.293    -4.9e+11    1.62e+12\n",
       "atreligion_2  5.662e+11   5.39e+11      1.051      0.293    -4.9e+11    1.62e+12\n",
       "atreligion_3  5.662e+11   5.39e+11      1.051      0.293    -4.9e+11    1.62e+12\n",
       "atreligion_4  5.662e+11   5.39e+11      1.051      0.293    -4.9e+11    1.62e+12\n",
       "atreligion_5  5.662e+11   5.39e+11      1.051      0.293    -4.9e+11    1.62e+12\n",
       "atreligion_6  5.662e+11   5.39e+11      1.051      0.293    -4.9e+11    1.62e+12\n",
       "ated_1       -5.011e+11   4.77e+11     -1.051      0.293   -1.44e+12    4.34e+11\n",
       "ated_2       -5.011e+11   4.77e+11     -1.051      0.293   -1.44e+12    4.34e+11\n",
       "ated_3       -5.011e+11   4.77e+11     -1.051      0.293   -1.44e+12    4.34e+11\n",
       "ated_4       -5.011e+11   4.77e+11     -1.051      0.293   -1.44e+12    4.34e+11\n",
       "ated_5       -5.011e+11   4.77e+11     -1.051      0.293   -1.44e+12    4.34e+11\n",
       "ated_6       -5.011e+11   4.77e+11     -1.051      0.293   -1.44e+12    4.34e+11\n",
       "atprof_1     -3.067e+11   2.92e+11     -1.051      0.293   -8.79e+11    2.65e+11\n",
       "atprof_2     -3.067e+11   2.92e+11     -1.051      0.293   -8.79e+11    2.65e+11\n",
       "atprof_3     -3.067e+11   2.92e+11     -1.051      0.293   -8.79e+11    2.65e+11\n",
       "atprof_4     -3.067e+11   2.92e+11     -1.051      0.293   -8.79e+11    2.65e+11\n",
       "atprof_5     -3.067e+11   2.92e+11     -1.051      0.293   -8.79e+11    2.65e+11\n",
       "atprof_6     -3.067e+11   2.92e+11     -1.051      0.293   -8.79e+11    2.65e+11\n",
       "atinc_1        -3.8e+11   3.61e+11     -1.051      0.293   -1.09e+12    3.29e+11\n",
       "atinc_2        -3.8e+11   3.61e+11     -1.051      0.293   -1.09e+12    3.29e+11\n",
       "atinc_3        -3.8e+11   3.61e+11     -1.051      0.293   -1.09e+12    3.29e+11\n",
       "atinc_4        -3.8e+11   3.61e+11     -1.051      0.293   -1.09e+12    3.29e+11\n",
       "atinc_5        -3.8e+11   3.61e+11     -1.051      0.293   -1.09e+12    3.29e+11\n",
       "atinc_6        -3.8e+11   3.61e+11     -1.051      0.293   -1.09e+12    3.29e+11\n",
       "atrace_1     -4.876e+11   4.64e+11     -1.051      0.293    -1.4e+12    4.22e+11\n",
       "atrace_2     -4.876e+11   4.64e+11     -1.051      0.293    -1.4e+12    4.22e+11\n",
       "atrace_3     -4.876e+11   4.64e+11     -1.051      0.293    -1.4e+12    4.22e+11\n",
       "atrace_4     -4.876e+11   4.64e+11     -1.051      0.293    -1.4e+12    4.22e+11\n",
       "atrace_5     -4.876e+11   4.64e+11     -1.051      0.293    -1.4e+12    4.22e+11\n",
       "atrace_6     -4.876e+11   4.64e+11     -1.051      0.293    -1.4e+12    4.22e+11\n",
       "atage_1      -4.451e+11   4.23e+11     -1.051      0.293   -1.28e+12    3.85e+11\n",
       "atage_2      -4.451e+11   4.23e+11     -1.051      0.293   -1.28e+12    3.85e+11\n",
       "atage_3      -4.451e+11   4.23e+11     -1.051      0.293   -1.28e+12    3.85e+11\n",
       "atage_4      -4.451e+11   4.23e+11     -1.051      0.293   -1.28e+12    3.85e+11\n",
       "atage_5      -4.451e+11   4.23e+11     -1.051      0.293   -1.28e+12    3.85e+11\n",
       "atage_6      -4.451e+11   4.23e+11     -1.051      0.293   -1.28e+12    3.85e+11\n",
       "atmale_1      2.047e+12   1.95e+12      1.051      0.293   -1.77e+12    5.86e+12\n",
       "atmale_2      2.047e+12   1.95e+12      1.051      0.293   -1.77e+12    5.86e+12\n",
       "==============================================================================\n",
       "Omnibus:                    16279.185   Durbin-Watson:                   2.873\n",
       "Prob(Omnibus):                  0.000   Jarque-Bera (JB):              393.556\n",
       "Skew:                          -0.011   Prob(JB):                     3.47e-86\n",
       "Kurtosis:                       1.347   Cond. No.                     8.56e+15\n",
       "==============================================================================\n",
       "\n",
       "Notes:\n",
       "[1] Standard Errors assume that the covariance matrix of the errors is correctly specified.\n",
       "[2] The smallest eigenvalue is 9.43e-29. This might indicate that there are\n",
       "strong multicollinearity problems or that the design matrix is singular.\n",
       "\"\"\""
      ]
     },
     "execution_count": 23,
     "metadata": {},
     "output_type": "execute_result"
    }
   ],
   "source": [
    "res = sm.OLS(y, xdum, family=sm.families.Binomial()).fit()\n",
    "res.summary()"
   ]
  },
  {
   "cell_type": "code",
   "execution_count": 26,
   "metadata": {},
   "outputs": [
    {
     "data": {
      "text/html": [
       "<div>\n",
       "<style scoped>\n",
       "    .dataframe tbody tr th:only-of-type {\n",
       "        vertical-align: middle;\n",
       "    }\n",
       "\n",
       "    .dataframe tbody tr th {\n",
       "        vertical-align: top;\n",
       "    }\n",
       "\n",
       "    .dataframe thead th {\n",
       "        text-align: right;\n",
       "    }\n",
       "</style>\n",
       "<table border=\"1\" class=\"dataframe\">\n",
       "  <thead>\n",
       "    <tr style=\"text-align: right;\">\n",
       "      <th></th>\n",
       "      <th>param_name</th>\n",
       "      <th>param_w</th>\n",
       "      <th>pval</th>\n",
       "    </tr>\n",
       "  </thead>\n",
       "  <tbody>\n",
       "    <tr>\n",
       "      <th>atmilitary_1</th>\n",
       "      <td>atmilitary_1</td>\n",
       "      <td>-4.922619e+11</td>\n",
       "      <td>0.293207</td>\n",
       "    </tr>\n",
       "    <tr>\n",
       "      <th>atmilitary_2</th>\n",
       "      <td>atmilitary_2</td>\n",
       "      <td>-4.922619e+11</td>\n",
       "      <td>0.293207</td>\n",
       "    </tr>\n",
       "    <tr>\n",
       "      <th>atreligion_1</th>\n",
       "      <td>atreligion_1</td>\n",
       "      <td>5.661825e+11</td>\n",
       "      <td>0.293207</td>\n",
       "    </tr>\n",
       "    <tr>\n",
       "      <th>atreligion_2</th>\n",
       "      <td>atreligion_2</td>\n",
       "      <td>5.661825e+11</td>\n",
       "      <td>0.293207</td>\n",
       "    </tr>\n",
       "    <tr>\n",
       "      <th>atreligion_3</th>\n",
       "      <td>atreligion_3</td>\n",
       "      <td>5.661825e+11</td>\n",
       "      <td>0.293207</td>\n",
       "    </tr>\n",
       "  </tbody>\n",
       "</table>\n",
       "</div>"
      ],
      "text/plain": [
       "                param_name       param_w      pval\n",
       "atmilitary_1  atmilitary_1 -4.922619e+11  0.293207\n",
       "atmilitary_2  atmilitary_2 -4.922619e+11  0.293207\n",
       "atreligion_1  atreligion_1  5.661825e+11  0.293207\n",
       "atreligion_2  atreligion_2  5.661825e+11  0.293207\n",
       "atreligion_3  atreligion_3  5.661825e+11  0.293207"
      ]
     },
     "execution_count": 26,
     "metadata": {},
     "output_type": "execute_result"
    }
   ],
   "source": [
    "df_res = pd.DataFrame({\n",
    "    'param_name': res.params.keys()\n",
    "    , 'param_w': res.params.values\n",
    "    , 'pval': res.pvalues\n",
    "})\n",
    "df_res.head()"
   ]
  },
  {
   "cell_type": "code",
   "execution_count": 27,
   "metadata": {},
   "outputs": [],
   "source": [
    "df_res['abs_param_w'] = np.abs(df_res['param_w'])\n",
    "# marking field is significant under 95% confidence interval\n",
    "df_res['is_sig_95'] = (df_res['pval'] < 0.05)\n",
    "# constructing color naming for each param\n",
    "df_res['c'] = ['blue' if x else 'red' for x in df_res['is_sig_95']]"
   ]
  },
  {
   "cell_type": "code",
   "execution_count": 28,
   "metadata": {},
   "outputs": [
    {
     "data": {
      "text/html": [
       "<div>\n",
       "<style scoped>\n",
       "    .dataframe tbody tr th:only-of-type {\n",
       "        vertical-align: middle;\n",
       "    }\n",
       "\n",
       "    .dataframe tbody tr th {\n",
       "        vertical-align: top;\n",
       "    }\n",
       "\n",
       "    .dataframe thead th {\n",
       "        text-align: right;\n",
       "    }\n",
       "</style>\n",
       "<table border=\"1\" class=\"dataframe\">\n",
       "  <thead>\n",
       "    <tr style=\"text-align: right;\">\n",
       "      <th></th>\n",
       "      <th>param_name</th>\n",
       "      <th>param_w</th>\n",
       "      <th>pval</th>\n",
       "      <th>abs_param_w</th>\n",
       "      <th>is_sig_95</th>\n",
       "      <th>c</th>\n",
       "    </tr>\n",
       "  </thead>\n",
       "  <tbody>\n",
       "    <tr>\n",
       "      <th>atmilitary_1</th>\n",
       "      <td>atmilitary_1</td>\n",
       "      <td>-4.922619e+11</td>\n",
       "      <td>0.293207</td>\n",
       "      <td>4.922619e+11</td>\n",
       "      <td>False</td>\n",
       "      <td>red</td>\n",
       "    </tr>\n",
       "    <tr>\n",
       "      <th>atmilitary_2</th>\n",
       "      <td>atmilitary_2</td>\n",
       "      <td>-4.922619e+11</td>\n",
       "      <td>0.293207</td>\n",
       "      <td>4.922619e+11</td>\n",
       "      <td>False</td>\n",
       "      <td>red</td>\n",
       "    </tr>\n",
       "    <tr>\n",
       "      <th>atreligion_1</th>\n",
       "      <td>atreligion_1</td>\n",
       "      <td>5.661825e+11</td>\n",
       "      <td>0.293207</td>\n",
       "      <td>5.661825e+11</td>\n",
       "      <td>False</td>\n",
       "      <td>red</td>\n",
       "    </tr>\n",
       "    <tr>\n",
       "      <th>atreligion_2</th>\n",
       "      <td>atreligion_2</td>\n",
       "      <td>5.661825e+11</td>\n",
       "      <td>0.293207</td>\n",
       "      <td>5.661825e+11</td>\n",
       "      <td>False</td>\n",
       "      <td>red</td>\n",
       "    </tr>\n",
       "    <tr>\n",
       "      <th>atreligion_3</th>\n",
       "      <td>atreligion_3</td>\n",
       "      <td>5.661825e+11</td>\n",
       "      <td>0.293207</td>\n",
       "      <td>5.661825e+11</td>\n",
       "      <td>False</td>\n",
       "      <td>red</td>\n",
       "    </tr>\n",
       "  </tbody>\n",
       "</table>\n",
       "</div>"
      ],
      "text/plain": [
       "                param_name       param_w      pval   abs_param_w  is_sig_95  \\\n",
       "atmilitary_1  atmilitary_1 -4.922619e+11  0.293207  4.922619e+11      False   \n",
       "atmilitary_2  atmilitary_2 -4.922619e+11  0.293207  4.922619e+11      False   \n",
       "atreligion_1  atreligion_1  5.661825e+11  0.293207  5.661825e+11      False   \n",
       "atreligion_2  atreligion_2  5.661825e+11  0.293207  5.661825e+11      False   \n",
       "atreligion_3  atreligion_3  5.661825e+11  0.293207  5.661825e+11      False   \n",
       "\n",
       "                c  \n",
       "atmilitary_1  red  \n",
       "atmilitary_2  red  \n",
       "atreligion_1  red  \n",
       "atreligion_2  red  \n",
       "atreligion_3  red  "
      ]
     },
     "execution_count": 28,
     "metadata": {},
     "output_type": "execute_result"
    }
   ],
   "source": [
    "df_res.head()"
   ]
  },
  {
   "cell_type": "code",
   "execution_count": 29,
   "metadata": {},
   "outputs": [],
   "source": [
    "# make it sorted by abs of parameter value\n",
    "df_res = df_res.sort_values(by='abs_param_w', ascending=True)"
   ]
  },
  {
   "cell_type": "code",
   "execution_count": 30,
   "metadata": {},
   "outputs": [
    {
     "data": {
      "image/png": "[encoded data removed]",
      "text/plain": [
       "<Figure size 1008x576 with 1 Axes>"
      ]
     },
     "metadata": {
      "needs_background": "light"
     },
     "output_type": "display_data"
    }
   ],
   "source": [
    "f, ax = plt.subplots(figsize=(14, 8))\n",
    "plt.title('Part Worth')\n",
    "pwu = df_res['param_w']\n",
    "xbar = np.arange(len(pwu))\n",
    "plt.barh(xbar, pwu, color=df_res['c'])\n",
    "plt.yticks(xbar, labels=df_res['param_name'])\n",
    "plt.show()"
   ]
  },
  {
   "cell_type": "code",
   "execution_count": 32,
   "metadata": {},
   "outputs": [],
   "source": [
    "# need to assemble per attribute for every level of that attribute in dicionary\n",
    "range_per_feature = dict()\n",
    "for key, coeff in res.params.items():\n",
    "    sk =  key.split('_')\n",
    "    feature = sk[0]\n",
    "    if len(sk) == 1:\n",
    "        feature = key\n",
    "    if feature not in range_per_feature:\n",
    "        range_per_feature[feature] = list()\n",
    "        \n",
    "    range_per_feature[feature].append(coeff)"
   ]
  },
  {
   "cell_type": "code",
   "execution_count": 33,
   "metadata": {},
   "outputs": [
    {
     "data": {
      "text/plain": [
       "{'atmilitary': [-492261949609.5787, -492261949609.5013],\n",
       " 'atreligion': [566182527527.1368,\n",
       "  566182527527.105,\n",
       "  566182527527.1311,\n",
       "  566182527527.1287,\n",
       "  566182527527.0265,\n",
       "  566182527527.0056],\n",
       " 'ated': [-501146449074.9523,\n",
       "  -501146449074.81226,\n",
       "  -501146449074.8015,\n",
       "  -501146449074.76355,\n",
       "  -501146449074.7742,\n",
       "  -501146449074.68195],\n",
       " 'atprof': [-306712656737.88214,\n",
       "  -306712656737.905,\n",
       "  -306712656737.89813,\n",
       "  -306712656737.92377,\n",
       "  -306712656737.9757,\n",
       "  -306712656738.1094],\n",
       " 'atinc': [-380025011450.3616,\n",
       "  -380025011450.3373,\n",
       "  -380025011450.2991,\n",
       "  -380025011450.3314,\n",
       "  -380025011450.2903,\n",
       "  -380025011450.35406],\n",
       " 'atrace': [-487553400515.6559,\n",
       "  -487553400515.6322,\n",
       "  -487553400515.6194,\n",
       "  -487553400515.6814,\n",
       "  -487553400515.6516,\n",
       "  -487553400515.6151],\n",
       " 'atage': [-445110995297.75464,\n",
       "  -445110995297.73157,\n",
       "  -445110995297.7336,\n",
       "  -445110995297.7544,\n",
       "  -445110995297.81995,\n",
       "  -445110995297.90094],\n",
       " 'atmale': [2046627935159.4404, 2046627935159.4497]}"
      ]
     },
     "execution_count": 33,
     "metadata": {},
     "output_type": "execute_result"
    }
   ],
   "source": [
    "range_per_feature"
   ]
  },
  {
   "cell_type": "code",
   "execution_count": 34,
   "metadata": {},
   "outputs": [],
   "source": [
    "# importance per feature is range of coef in a feature\n",
    "# while range is simply max(x) - min(x)\n",
    "importance_per_feature = {\n",
    "    k: max(v) - min(v) for k, v in range_per_feature.items()\n",
    "}"
   ]
  },
  {
   "cell_type": "code",
   "execution_count": 35,
   "metadata": {},
   "outputs": [
    {
     "data": {
      "text/plain": [
       "{'atmilitary': 0.077392578125,\n",
       " 'atreligion': 0.1312255859375,\n",
       " 'ated': 0.27032470703125,\n",
       " 'atprof': 0.22723388671875,\n",
       " 'atinc': 0.0712890625,\n",
       " 'atrace': 0.0662841796875,\n",
       " 'atage': 0.16937255859375,\n",
       " 'atmale': 0.00927734375}"
      ]
     },
     "execution_count": 35,
     "metadata": {},
     "output_type": "execute_result"
    }
   ],
   "source": [
    "importance_per_feature"
   ]
  },
  {
   "cell_type": "code",
   "execution_count": 36,
   "metadata": {},
   "outputs": [
    {
     "data": {
      "image/png": "[encoded data removed]",
      "text/plain": [
       "<Figure size 864x576 with 1 Axes>"
      ]
     },
     "metadata": {
      "needs_background": "light"
     },
     "output_type": "display_data"
    }
   ],
   "source": [
    "alt_data = pd.DataFrame(\n",
    "    list(importance_per_feature.items()), \n",
    "    columns=['attr', 'importance']\n",
    ").sort_values(by='importance', ascending=False)\n",
    "\n",
    "\n",
    "f, ax = plt.subplots(figsize=(12, 8))\n",
    "xbar = np.arange(len(alt_data['attr']))\n",
    "plt.title('Importance')\n",
    "plt.barh(xbar, alt_data['importance'])\n",
    "for i, v in enumerate(alt_data['importance']):\n",
    "    ax.text(v , i + .25, '{:.2f}'.format(v))\n",
    "plt.ylabel('attributes')\n",
    "plt.xlabel('% importance')\n",
    "plt.yticks(xbar, alt_data['attr'])\n",
    "plt.show()"
   ]
  },
  {
   "cell_type": "code",
   "execution_count": null,
   "metadata": {},
   "outputs": [],
   "source": []
  }
 ],
 "metadata": {
  "kernelspec": {
   "display_name": "Python 3",
   "language": "python",
   "name": "python3"
  },
  "language_info": {
   "codemirror_mode": {
    "name": "ipython",
    "version": 3
   },
   "file_extension": ".py",
   "mimetype": "text/x-python",
   "name": "python",
   "nbconvert_exporter": "python",
   "pygments_lexer": "ipython3",
   "version": "3.7.10"
  }
 },
 "nbformat": 4,
 "nbformat_minor": 2
}
