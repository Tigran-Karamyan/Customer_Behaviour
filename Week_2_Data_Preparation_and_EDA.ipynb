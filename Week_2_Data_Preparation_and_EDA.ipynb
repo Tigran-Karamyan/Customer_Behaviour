{
 "cells": [
  {
   "cell_type": "markdown",
   "metadata": {},
   "source": [
    "<h1> Week 2 </h1>\n",
    "\n",
    "<h1>Introduction</h1> <a name=\"intro\"></a>\n",
    "Python can be used with several development environments like <code><b>Spyder, PyCharm, Rodeo, Atom, Jupyter Notebook</b></code>, etc. (for more see, <a><a href=\"https://www.datacamp.com/community/tutorials/data-science-python-ide\">https://www.datacamp.com/community/tutorials/data-science-python-ide</a>).\n",
    "   \n",
    "   We will use <b>Jupyter Notebook</b>.\n",
    "\n",
    "- \"Notebook\" or \"notebook documents\" denote documents that contain both code and rich text elements, such as figures, links, equations, ... Because of the mix of <b>code and text elements</b>, these documents are the ideal place to bring together an analysis description, and its results, as well as, they can be executed to perform the data analysis in real time.The Jupyter Notebook App produces these documents. Jupyter Notebook App allows you to edit and run your notebooks via  web browser. The application can be executed on a PC without Internet access, or it can be installed on a remote server, where you can access it through the Internet.\n",
    "- <b>Opening Jupyter Notebook</b>: In <i>Command Prompt</i> or <i>Anaconda Prompt</i> type <b><code>jupyter notebook</code></b>. Then click to <i>New</i> - <i>Python 3</i>, the JN script will be opened and you can start coding.\n",
    "    "
   ]
  },
  {
   "cell_type": "markdown",
   "metadata": {},
   "source": [
    "<h1>Data types & variables </h1> <a name=\"types\"></a>\n",
    "\n",
    "The basic data types in Python (objects that can store data) are:\n",
    "The basic data types in Python (objects that can store data) are:\n",
    "- [int - stores an integer number](#int)\n",
    "- [float - stores a floating point number (a number with decimals)](#float)\n",
    "- [str - stores a textual string (is always written inside quotes)](#str)\n",
    "- [bool - stores boolean (logical) values (True or False)](#bool) \n",
    "\n",
    "Other data types (such as complex numbers) also exist but are out of the scope of this lecture.\n",
    "<br>\n",
    "To create an object (a variable) in Python **=** sign is used for assignment.\n",
    "- When used, the value on the right will be assigned to the object on the left.\n",
    "- Python allows multiple assignments on the same line as well: a,b = 1,2 (a will become 1 and b will become 2)\n",
    "- **type()** is a built in function which can check the type of an object (int, str etc.).\n",
    "- The data types can also be used as functions to convert the type of a variable (e.g. int(5.7) will produce 5, by extracting an integer from a floating point number).\n",
    "- **print()** function can be used to print the content (value) of an object. If not used, the value of an object will still be shown. Yet, if print() is not used, only the last one of multiple objects will be shown.\n",
    "- **#** (hashtag) sign is used to write comments in Python. Whenever used, anything on the right hand side will become a comment and will not be executed as code.\n",
    "- Each data type in Python has its own operations. For example, substruction operations is available for int but not for str."
   ]
  },
  {
   "cell_type": "markdown",
   "metadata": {},
   "source": [
    "### Overview"
   ]
  },
  {
   "cell_type": "code",
   "execution_count": null,
   "metadata": {},
   "outputs": [],
   "source": [
    "# 1 is an object in Python\n",
    "1"
   ]
  },
  {
   "cell_type": "code",
   "execution_count": null,
   "metadata": {},
   "outputs": [],
   "source": [
    "# 1 is part of buid-in class \"int\"\n",
    "type(\"str\")\n",
    "print(2)"
   ]
  },
  {
   "cell_type": "code",
   "execution_count": null,
   "metadata": {},
   "outputs": [],
   "source": [
    "# only 2 will be shown (the last one)\n",
    "1\n",
    "2"
   ]
  },
  {
   "cell_type": "code",
   "execution_count": null,
   "metadata": {},
   "outputs": [],
   "source": [
    "# as print was used, both 1 and 2 will be shown\n",
    "print(1)\n",
    "print(2)\n",
    "1\n",
    "2"
   ]
  },
  {
   "cell_type": "code",
   "execution_count": null,
   "metadata": {},
   "outputs": [],
   "source": [
    "# assigning 1 value to an object called \"a\"\n",
    "# printing the value\n",
    "a = 1\n",
    "b = a \n",
    "print(b)\n",
    "# =="
   ]
  },
  {
   "cell_type": "code",
   "execution_count": null,
   "metadata": {},
   "outputs": [],
   "source": [
    "# Type of \"a\" is int\n",
    "type(a)"
   ]
  },
  {
   "cell_type": "code",
   "execution_count": null,
   "metadata": {},
   "outputs": [],
   "source": [
    "# multiple assignments on the same line\n",
    "# sintactic sugar ex (int, str, type, bool -> magic functions)\n",
    "a, b, c = 1, 2, 3\n",
    "print(a)\n",
    "print(b)\n",
    "print(c)"
   ]
  },
  {
   "cell_type": "markdown",
   "metadata": {},
   "source": [
    "## <a name=\"int\" href=\"https://docs.python.org/3.4/library/stdtypes.html#numeric-types-int-float-complex\">Integers</a> \n",
    "\n",
    "Integers (int) are the integer numbers in mathematics and can complete the following operations: summation (+), substruction (-), division (/), multiplication (*), exponentiation (**), modulus (%)."
   ]
  },
  {
   "cell_type": "code",
   "execution_count": null,
   "metadata": {},
   "outputs": [],
   "source": [
    "print(5+2) #summation\n",
    "print(5-2) #substruction\n",
    "print(5*2) #multiplication\n",
    "print(5/2) #division\n",
    "print(5**2, \"Power\") #exponentiation\n",
    "print(10%3, \"Module -> 10 = 3 * 3 + 1\") #modulus (gives the residual after division)\n",
    "print(5//2, \"Int Division\")"
   ]
  },
  {
   "cell_type": "markdown",
   "metadata": {},
   "source": [
    "## <a name=\"float\" href=\"https://docs.python.org/3.4/library/stdtypes.html#numeric-types-int-float-complex\">Float </a>\n",
    "\n",
    "Floats (float) are the floating point (decimal) numbers. For example, 2.5. The operations applied on floating point numbers are the same as on integers. One may convert float to an int and viceversa using same name functions. When int is converted to float, just a \".0\" will be added to visually indicate it is a floating point number. Yet, when float is converted to int, only integer part will be left (i.e. no rounding up operation will be conducted). For example, int(5.9) will result in 5 (not 6)."
   ]
  },
  {
   "cell_type": "code",
   "execution_count": null,
   "metadata": {},
   "outputs": [],
   "source": [
    "var_int = 5\n",
    "type(var_int)"
   ]
  },
  {
   "cell_type": "code",
   "execution_count": null,
   "metadata": {},
   "outputs": [],
   "source": [
    "var_float = 5.9\n",
    "type(var_float)"
   ]
  },
  {
   "cell_type": "code",
   "execution_count": null,
   "metadata": {},
   "outputs": [],
   "source": [
    "float(var_int)"
   ]
  },
  {
   "cell_type": "markdown",
   "metadata": {},
   "source": [
    "## Built-in functions for basic numerical (mathematical) operations\n",
    "Some built-in functions used in math are abs(), max(), min(), pow(), round(). There is no explicit function to calculate square root, but one can use pow() or \"**\" operation to do that."
   ]
  },
  {
   "cell_type": "code",
   "execution_count": null,
   "metadata": {},
   "outputs": [],
   "source": [
    "print('abs', abs(-5)) #calculating absolute value\n",
    "print('max', max(3, -5, 9)) #calculating max value\n",
    "print('min', min(4, -4, -5, 0)) #calculating min value\n",
    "print('pow', pow(2, 3)) #taking power up\n",
    "print('round', round(6.7777777, 3)) #rounding up to 3 decimals\n",
    "\n",
    "print(round(452.255, 1))\n",
    "# 2.5 -> 2 Gaussian Rounding\n",
    "# 3.5 -> 4"
   ]
  },
  {
   "cell_type": "markdown",
   "metadata": {},
   "source": [
    "## <a name=\"str\" href=\"https://docs.python.org/3.4/library/stdtypes.html#text-sequence-type-str\">Strings</a>\n",
    "\n",
    "Strings (str) are the textual objects. They are always written inside single or double quotes. Strings are \"stronger\" type than numerical data types, as any numeric value can be also stored as string (e.g. \"5\" is a string), yet NOT any string can be stored as an integer or a float (e.g. \"text\" cannot anyhow be converted to a numeric value, yet 10 can be converted to string with quotes: \"10\").\n",
    "\n",
    "- The strings in Python can be summed up with each other. Summation of strings yield to their concationation.\n",
    "- Strings can also be multiplied with integers which will yield the repition of strings.\n",
    "- Elements (characters) from a string can be selected using square brackets. As the enumeration in Python starts from 0, the very first character can be selecte dusing [0]. The last character can be selected using [-1].\n"
   ]
  },
  {
   "cell_type": "code",
   "execution_count": null,
   "metadata": {},
   "outputs": [],
   "source": [
    "name = \"Karen\"\n",
    "type(name)\n",
    "print(name[-1])"
   ]
  },
  {
   "cell_type": "code",
   "execution_count": null,
   "metadata": {},
   "outputs": [],
   "source": [
    "var_str = \"7\"\n",
    "type(var_str)"
   ]
  },
  {
   "cell_type": "code",
   "execution_count": null,
   "metadata": {},
   "outputs": [],
   "source": [
    "# converted a string (with numerical value) to an integer\n",
    "int(var_str)"
   ]
  },
  {
   "cell_type": "code",
   "execution_count": null,
   "metadata": {},
   "outputs": [],
   "source": [
    "# trying to convert textual value to an integer yields an error\n",
    "int(name)"
   ]
  },
  {
   "cell_type": "code",
   "execution_count": null,
   "metadata": {},
   "outputs": [],
   "source": [
    "# reverse the string\n",
    "list_of_num = [5,2,6]\n",
    "list_of_num[::-1]"
   ]
  },
  {
   "cell_type": "code",
   "execution_count": null,
   "metadata": {},
   "outputs": [],
   "source": [
    "name+\"Bacat\"+name"
   ]
  },
  {
   "cell_type": "code",
   "execution_count": null,
   "metadata": {},
   "outputs": [],
   "source": [
    "print(name + \" \" + name +\" \" + \"Ayvazyan\")"
   ]
  },
  {
   "cell_type": "code",
   "execution_count": null,
   "metadata": {},
   "outputs": [],
   "source": [
    "name*7"
   ]
  },
  {
   "cell_type": "markdown",
   "metadata": {},
   "source": [
    "## <a name=\"bool\" href=\"https://docs.python.org/3.4/library/stdtypes.html#truth-value-testing\">Boolean</a>\n",
    "\n",
    "Boolean (bool) objects attain only two values: True or False. False is encoded as 0 and True is encoded as 1 in Python. Booleans are usually the result of comparison or logical operations. Those operations are:\n",
    "\n",
    "- **==** - equivalence. Yields True if the value on the left equals to the value on the right, and False otherwise.  \n",
    "- **!=** - not equivalent. Yields True if value on the left is not equal to the value on the right. \n",
    "- **in** - test whether the value on the left can be found inside the object on the right\n",
    "- **not** - negation operation, can be used with **in**\n",
    "- **and** - and operator to combine two or more conditions. Both should be satified to yield True.\n",
    "  - **&** sign should be used instead of **and** when arrays (vectors) are tested for conditions.\n",
    "- **or** - or operator to combine two or more conditions. Yields True even if one of the conditions is satisfied.\n",
    "  - **|** sign should be used instead of **or** when arrays (vectors) are tested for conditions.\n",
    "- **<** - less than\n",
    "- **<=** - less than or equal to\n",
    "- **>** - greater than\n",
    "- **>=** - greater than or equal to  "
   ]
  },
  {
   "cell_type": "code",
   "execution_count": null,
   "metadata": {},
   "outputs": [],
   "source": [
    "if \"Karen\"==\"karen\":\n",
    "    print(\"Karen\"*5)"
   ]
  },
  {
   "cell_type": "code",
   "execution_count": null,
   "metadata": {},
   "outputs": [],
   "source": [
    "\"Karen\"!=\"karen\"\n",
    "\"Karen\" not in [\"karen\"]"
   ]
  },
  {
   "cell_type": "code",
   "execution_count": null,
   "metadata": {},
   "outputs": [],
   "source": [
    "\"K\" not in \"Karen\".split()"
   ]
  },
  {
   "cell_type": "code",
   "execution_count": null,
   "metadata": {},
   "outputs": [],
   "source": [
    "5>5"
   ]
  },
  {
   "cell_type": "code",
   "execution_count": null,
   "metadata": {},
   "outputs": [],
   "source": [
    "5>=5"
   ]
  },
  {
   "cell_type": "code",
   "execution_count": null,
   "metadata": {},
   "outputs": [],
   "source": [
    "5<6"
   ]
  },
  {
   "cell_type": "code",
   "execution_count": null,
   "metadata": {},
   "outputs": [],
   "source": [
    "5<=6"
   ]
  },
  {
   "cell_type": "markdown",
   "metadata": {},
   "source": [
    "# <a href=\"https://docs.python.org/3.4/library/stdtypes.html#string-methods\">String methods</a>\n",
    "\n",
    "Each object type has its own operations. Similarly each object has its own functionalities that are available only for that object. Those functions are called methods and are available after insteading a dot following object's name. Several of string methods are:\n",
    "- upper() - makes the string uppercase\n",
    "- lower() - makes the string lowercase\n",
    "- find() - finds a given charater in a string. Returns its index or -1 if not found\n",
    "- split() - splits the sting based on a given character\n",
    "- count() - counts the numer of occurancies of a given character\n",
    "- many other methods which can be accessed after inserting the dot and pressing TAB "
   ]
  },
  {
   "cell_type": "code",
   "execution_count": null,
   "metadata": {},
   "outputs": [],
   "source": [
    "my_str = \"Galstyan\""
   ]
  },
  {
   "cell_type": "code",
   "execution_count": null,
   "metadata": {},
   "outputs": [],
   "source": [
    "my_str.upper()"
   ]
  },
  {
   "cell_type": "code",
   "execution_count": null,
   "metadata": {},
   "outputs": [],
   "source": [
    "my_str.lower()"
   ]
  },
  {
   "cell_type": "code",
   "execution_count": null,
   "metadata": {},
   "outputs": [],
   "source": [
    "my_str.find(\"y\")"
   ]
  },
  {
   "cell_type": "code",
   "execution_count": null,
   "metadata": {},
   "outputs": [],
   "source": [
    "my_str.find(\"o\")"
   ]
  },
  {
   "cell_type": "code",
   "execution_count": null,
   "metadata": {},
   "outputs": [],
   "source": [
    "# split the string based on the 'key' \n",
    "my_str.split(\"a\")"
   ]
  },
  {
   "cell_type": "code",
   "execution_count": null,
   "metadata": {},
   "outputs": [],
   "source": [
    "#count how many types 'a' appears in the text\n",
    "my_str.count(\"a\")"
   ]
  },
  {
   "cell_type": "markdown",
   "metadata": {},
   "source": [
    "# <a name=\"structure\" href=\"https://docs.python.org/3/tutorial/datastructures.html#data-structures\">Data Structures</a>\n",
    "\n",
    "Data structures are \"larger\" objects which hold data inside. There are 4 data structures in Python:\n",
    "- [**list** - is defined using function **list()** or square brackets: <b>\"\\[\\]\"</b>. Can hold absolutely any data inside (int, float, str, bool, another list etc.). Elements in the list can be accessed using their index inside the square brackets (like in case of strings, indexation starts from 0)](#list)\n",
    "- [**tuple** - is defined using function **tuple()** or open brackets: **( )**. Can hold absolutely any data inside, yet is not mutable (e.g. cannot add or remove data). Elements can be accessed similarly as in case of lists.](#tuple)\n",
    "- [**set** - is defined using function **set()** or curly brackets: **{ }**. Can hold absolutely any data inside, yet only unique values (no repetitions). To access the elements in a set, it needs to be converted to a list.](#set)\n",
    "- [**dict** - is defined using function **dict()** or curly brackets: **{ }**. Can hold absolutely any data inside using key:value pairs.Do not mix it with tuple, as tuple has only values and no keys. Keys in dictionary should be unique. Elements in a dictionary do not keep any order, so one cannot access them using index. Instead, they are accessed using keys inside square brackets.](#dict)\n",
    "\n",
    "Each of the data structures has it's own methods. Those methods helps to add or remove an element (if the data structure is mutable), count number of elemenets, find an element etc."
   ]
  },
  {
   "cell_type": "markdown",
   "metadata": {},
   "source": [
    "## <a name=\"list\" href=\"https://docs.python.org/3/tutorial/datastructures.html#more-on-lists\">List </a>\n",
    "The list class is the most general, representing a sequence of arbitrary objects. Lists are zero-indexed. They are perhaps the most used data structure in Python, as they have many valuable behaviors. Methods for lists are many, among all:\n",
    "- **append()** - adds an element to the very end of the list\n",
    "- **extend()** - adds an element to the very end of the list after iterating over the element (i.e. partition then add)\n",
    "- **pop()** - removes an element using index\n",
    "- **remove()** - removes an element using value\n",
    "- other methods which can be accessed by inserting dot and pressing TAB after the list object name"
   ]
  },
  {
   "cell_type": "code",
   "execution_count": null,
   "metadata": {},
   "outputs": [],
   "source": [
    "empty_list = [] # empty list\n",
    "#empty_list = list() # same thing in a different wat\n",
    "name_list = ['Jack', 'John', 'Jimmy', 'Jivan', 'James', 'Joseph'] # list of strings\n",
    "int_list = [1, 2, 3, 4, 5] # list of integers\n",
    "mixed_list = [1, 'dog', 3.5] # list of different types of elements"
   ]
  },
  {
   "cell_type": "code",
   "execution_count": null,
   "metadata": {},
   "outputs": [],
   "source": [
    "print(name_list[0]) #first element\n",
    "print(name_list[-1]) #last element\n",
    "print(name_list[4]) #5th element (in Pythonic its 4th)\n",
    "print(name_list[0:3]) #first 3 elements\n",
    "print(name_list[:3]) #first 3 elements\n",
    "print(name_list[-3:]) #last 3 elements\n",
    "print(name_list[::2]) #first of each next 2 elements (odd numbered elemenets)\n",
    "print(name_list[::-1]) #reverse list"
   ]
  },
  {
   "cell_type": "code",
   "execution_count": null,
   "metadata": {},
   "outputs": [],
   "source": [
    "name_list.append(\"Jona\") #add Jona to names\n",
    "name_list.pop(0) #removes first element using its index\n",
    "name_list.remove(\"Jimmy\") #removes an element using value"
   ]
  },
  {
   "cell_type": "markdown",
   "metadata": {},
   "source": [
    "## <a name=\"dict\" href=\"https://docs.python.org/3/tutorial/datastructures.html#dictionaries\">Dictionary </a>\n",
    "Each key is separated from its value by a colon (:), the items are separated by commas, and the whole thing is enclosed in curly braces. Keys are unique within a dictionary, while values may not. The values of a dictionary can be of any type, but the keys must be of an immutable data type such as strings, numbers, or tuples."
   ]
  },
  {
   "cell_type": "code",
   "execution_count": null,
   "metadata": {},
   "outputs": [],
   "source": [
    "color_dict = {'Nuber five': 5, 'g': 'Green', 'b': 'Blue'}\n",
    "print(color_dict)"
   ]
  },
  {
   "cell_type": "code",
   "execution_count": null,
   "metadata": {},
   "outputs": [],
   "source": [
    "color_dict['Nuber five']"
   ]
  },
  {
   "cell_type": "code",
   "execution_count": null,
   "metadata": {},
   "outputs": [],
   "source": [
    "color_dict[\"Number Six\"] = 6"
   ]
  },
  {
   "cell_type": "code",
   "execution_count": null,
   "metadata": {},
   "outputs": [],
   "source": [
    "print(color_dict)"
   ]
  },
  {
   "cell_type": "code",
   "execution_count": null,
   "metadata": {},
   "outputs": [],
   "source": [
    "#adding values to the dict\n",
    "color_dict[\"y\"] = \"Yellow\"\n",
    "print(color_dict)"
   ]
  },
  {
   "cell_type": "code",
   "execution_count": null,
   "metadata": {},
   "outputs": [],
   "source": [
    "#get all keys\n",
    "color_dict.keys()"
   ]
  },
  {
   "cell_type": "code",
   "execution_count": null,
   "metadata": {},
   "outputs": [],
   "source": [
    "#get all values\n",
    "color_dict.values()"
   ]
  },
  {
   "cell_type": "code",
   "execution_count": null,
   "metadata": {},
   "outputs": [],
   "source": [
    "type((5, 6))"
   ]
  },
  {
   "cell_type": "code",
   "execution_count": null,
   "metadata": {},
   "outputs": [],
   "source": [
    "range(0, 50)"
   ]
  },
  {
   "cell_type": "code",
   "execution_count": null,
   "metadata": {},
   "outputs": [],
   "source": [
    "for i in range(0, 50, 2):\n",
    "    print(tuple([i,i+1]))"
   ]
  },
  {
   "cell_type": "markdown",
   "metadata": {},
   "source": [
    "# <a name=\"control\" href=\"https://docs.python.org/3/reference/compound_stmts.html#compound-statements\">Control Flow </a>\n",
    "\n",
    "In any programming language there are 3 constructs that help to control the flow:\n",
    "- <a href=\"https://docs.python.org/3/reference/compound_stmts.html#the-if-statement\">**if/else statement** - tests conditions and executes relevant actions based on the test result being True or False</a>\n",
    "- <a href=\"https://docs.python.org/3/reference/compound_stmts.html#the-for-statement\">**for loop** - repeats an action for predefined number of times</a>\n",
    "- <a href=\"https://docs.python.org/3/reference/compound_stmts.html#the-while-statement\">**while loop** - repeats an action until a condition is not met </a>\n",
    "- <a href=\"https://docs.python.org/3/reference/compound_stmts.html#function-definitions\">**functions**-user-defined executable statement. </a>"
   ]
  },
  {
   "cell_type": "markdown",
   "metadata": {},
   "source": [
    "## if/else\n",
    "\n",
    "If/else statement has the following structure:\n",
    "<br>\n",
    "if condition is met:\n",
    "<br>\n",
    "&nbsp;&nbsp;&nbsp;&nbsp;do something\n",
    "<br>\n",
    "elif another condition is met:\n",
    "<br>\n",
    "&nbsp;&nbsp;&nbsp;&nbsp;do something else\n",
    "<br>\n",
    "else:\n",
    "<br>\n",
    "&nbsp;&nbsp;&nbsp;&nbsp;do something different"
   ]
  },
  {
   "cell_type": "code",
   "execution_count": null,
   "metadata": {},
   "outputs": [],
   "source": [
    "a=1\n",
    "if a > 0:\n",
    "    print(str(a)+\" is positive\")\n",
    "elif a==0:\n",
    "    print(str(a)+\" is 0\")\n",
    "else:\n",
    "    print(str(a)+\" is negative\")\n",
    "print(\"Done\")"
   ]
  },
  {
   "cell_type": "markdown",
   "metadata": {},
   "source": [
    "## For loop\n",
    "\n",
    "Python’s for statement iterates over the items of any sequence (list, string or other iterable objects) in the order that they appear in the sequence."
   ]
  },
  {
   "cell_type": "code",
   "execution_count": null,
   "metadata": {},
   "outputs": [],
   "source": [
    "objects = [\"star\", \"man\", \"simple\"]\n",
    "'karen'.split()"
   ]
  },
  {
   "cell_type": "code",
   "execution_count": null,
   "metadata": {},
   "outputs": [],
   "source": [
    "for i in \"karen\".split(): \n",
    "    print(\"super\" + i)"
   ]
  },
  {
   "cell_type": "code",
   "execution_count": null,
   "metadata": {},
   "outputs": [],
   "source": [
    "objects_up = []\n",
    "for i in objects:\n",
    "    objects_up.append(i.upper()) # making upper case each object\n",
    "print(objects_up)\n",
    "print(objects)"
   ]
  },
  {
   "cell_type": "code",
   "execution_count": null,
   "metadata": {},
   "outputs": [],
   "source": [
    "for i in range(len(objects)): \n",
    "    print(\"super\" + objects[i])"
   ]
  },
  {
   "cell_type": "markdown",
   "metadata": {},
   "source": [
    "## While loop\n",
    "While loop is used when one does not know beforehand how many times an action needs to be repeated. It can repeat an action infinetly many times if not built correctly. While loop *usually* has 3 blocks: starting point, the condition and an increment."
   ]
  },
  {
   "cell_type": "code",
   "execution_count": null,
   "metadata": {},
   "outputs": [],
   "source": [
    "i = 1\n",
    "while i<2:\n",
    "    print(i)\n",
    "    i = i + 1\n",
    "print(\"Finished\")"
   ]
  },
  {
   "cell_type": "markdown",
   "metadata": {},
   "source": [
    "## Functions\n",
    "\n",
    "Many functions exist (built) in Python, yet some do not. If one wants to use a piece of code many times, usually s/he is encouraged to develop a function to use it in the future as well."
   ]
  },
  {
   "cell_type": "code",
   "execution_count": null,
   "metadata": {},
   "outputs": [],
   "source": [
    "import time \n",
    "def modeling():\n",
    "    print(\"start_modeling\")\n",
    "    time.sleep(5)\n",
    "    return \"modeling is done\""
   ]
  },
  {
   "cell_type": "code",
   "execution_count": null,
   "metadata": {},
   "outputs": [],
   "source": [
    "modeling()"
   ]
  },
  {
   "cell_type": "code",
   "execution_count": null,
   "metadata": {},
   "outputs": [],
   "source": [
    "def sqrt(num):\n",
    "    if num>=0:\n",
    "        return num**0.5\n",
    "    else:\n",
    "        print(\"sqrt is not available for negatives\")"
   ]
  },
  {
   "cell_type": "code",
   "execution_count": null,
   "metadata": {},
   "outputs": [],
   "source": [
    "Sqrt_number = sqrt(255)\n",
    "Sqrt_number * 5"
   ]
  },
  {
   "cell_type": "markdown",
   "metadata": {},
   "source": [
    "## <a name=\"comprehension\" href=\"https://docs.python.org/3/tutorial/datastructures.html#list-comprehensions\">Comprehensions (lists and dictionaries)</a>\n",
    " \n",
    "for and while loops are used to automate processes in Python. Yet they may not be user friendly as a result of long code. Additionaly, they can be slow. Whenever one needs to have a for loop which will yield a list/dictionary in the end, list/dictionary comprehensions may be used instead. They are faster and they allow usage of loops and conditionals (if/else) inside just one line of code."
   ]
  },
  {
   "cell_type": "code",
   "execution_count": null,
   "metadata": {},
   "outputs": [],
   "source": [
    "#list of integers from 1 to 10 created using for loop\n",
    "int_list = []\n",
    "for i in range(1,11):\n",
    "    int_list.append(i)\n",
    "print(int_list)"
   ]
  },
  {
   "cell_type": "code",
   "execution_count": null,
   "metadata": {},
   "outputs": [],
   "source": [
    "#list of integers from 1 to 10 created using list comprehension\n",
    "s = [i+5 for i in range(1,11)]\n",
    "print(s)"
   ]
  },
  {
   "cell_type": "code",
   "execution_count": null,
   "metadata": {},
   "outputs": [],
   "source": [
    "#list of squares of integers from 1 to 10 created using for loop\n",
    "sqr_list = []\n",
    "for i in range(1,11):\n",
    "    sqr_list.append(i*i)\n",
    "print(sqr_list)"
   ]
  },
  {
   "cell_type": "code",
   "execution_count": null,
   "metadata": {},
   "outputs": [],
   "source": [
    "#list of squares of integers from 1 to 10 created (and saved) using list comprehension\n",
    "my_square_list = [i*i for i in range(3,15)]\n",
    "[i for i in range(3, 15)]"
   ]
  },
  {
   "cell_type": "code",
   "execution_count": null,
   "metadata": {},
   "outputs": [],
   "source": [
    "#list of squares of odd integers from 1 to 10 created using for loop\n",
    "odd_sqr_list = []\n",
    "for j in range(1,11):\n",
    "    if j%2!=0:\n",
    "        odd_sqr_list.append(j**2)\n",
    "print(odd_sqr_list)"
   ]
  },
  {
   "cell_type": "code",
   "execution_count": null,
   "metadata": {},
   "outputs": [],
   "source": [
    "#list of squares of odd integers from 1 to 10 created using list comprehension\n",
    "[j**2 for j in range(3,15) if j%2!=0]"
   ]
  },
  {
   "cell_type": "code",
   "execution_count": null,
   "metadata": {},
   "outputs": [],
   "source": [
    "#a sample string to be used in future\n",
    "#for simplicity assume all names starting with J are males and K - females\n",
    "names = [\"James\",\"Jimmy\",\"Katherine\",\"John\",\"Karen\",\"Kate\",\"Jivan\",'Kim']"
   ]
  },
  {
   "cell_type": "code",
   "execution_count": null,
   "metadata": {},
   "outputs": [],
   "source": [
    "#for loop to create a list of uppercase names\n",
    "names_upper = []\n",
    "for j in names:\n",
    "    names_upper.append(j.upper())\n",
    "print(names_upper)"
   ]
  },
  {
   "cell_type": "code",
   "execution_count": null,
   "metadata": {},
   "outputs": [],
   "source": [
    "#list comprehension to create a list of uppercase names\n",
    "[j.upper() for j in names]"
   ]
  },
  {
   "cell_type": "code",
   "execution_count": null,
   "metadata": {},
   "outputs": [],
   "source": [
    "#for loop to create a list of uppercase female names\n",
    "woman_names_upper = []\n",
    "for i in names:\n",
    "    if i[0]==\"K\":\n",
    "        woman_names_upper.append(i.upper())\n",
    "print(woman_names_upper)"
   ]
  },
  {
   "cell_type": "code",
   "execution_count": null,
   "metadata": {},
   "outputs": [],
   "source": [
    "#list comrehension to create a list of uppercase female names\n",
    "[i.upper() for i in names if i[0]==\"K\"]"
   ]
  },
  {
   "cell_type": "code",
   "execution_count": null,
   "metadata": {},
   "outputs": [],
   "source": [
    "#dictionary comrehension for calculating squares of integers between 1 and 10\n",
    "{i:i**2 for i in range(1,11)}"
   ]
  },
  {
   "cell_type": "code",
   "execution_count": null,
   "metadata": {},
   "outputs": [],
   "source": [
    "#dictionary comrehension for calculating squares of odd integers between 1 and 10\n",
    "{i:i**2 for i in range(1,11) if i%2!=0}"
   ]
  },
  {
   "cell_type": "code",
   "execution_count": null,
   "metadata": {},
   "outputs": [],
   "source": [
    "#dictionary comrehension for making female names uppercase\n",
    "{i:i.upper() for i in names if i[0]==\"K\"}"
   ]
  },
  {
   "cell_type": "markdown",
   "metadata": {},
   "source": [
    "# Week 2․5\n",
    "\n",
    "## Data Preparation for Customer Behavior Analysis"
   ]
  },
  {
   "cell_type": "markdown",
   "metadata": {},
   "source": [
    "Here's what a typical data science project looks like:\n",
    "1. Problem identification\n",
    "2. **EDA**\n",
    "3. **Data Cleaning**\n",
    "4. **Feature Engineering**\n",
    "5. Modeling\n",
    "6. Project Delivery \n",
    "\n",
    "During this class we will discuss and work on 2, 3 and 4 points from the list above.\n",
    "\n",
    "### Exploratory Data Analysis:\n",
    "\n",
    "*“Exploratory data analysis” is an attitude, a state of flexibility, a willingness to look for those things that we believe are not there, as well as those we believe to be there.*\n",
    "<br>\n",
    "— John Tukey\n",
    "<br> \n",
    "<br>\n",
    "During EDA, we use plots, graphs, and summary statistics to gain more understanding and intuition about the dataset. \n",
    "<br>\n",
    "<br>\n",
    "Generally speaking, it’s a method of systematically going through the data, plotting distributions of all variables (using box plots), plotting time series of data, transforming variables, looking at all pairwise relationships between variables using scatterplot matrices, and generating summary statistics for all of them. [1]\n",
    "<br>\n",
    "<br>\n",
    "<br>\n",
    "**A simple guide to help you conduct EDA:**\n",
    "1. Dataset overview\n",
    "    - Exploring summary statistics of variables\n",
    "    - Exploring NAs\n",
    "2. Going deeper by examining each variable individually\n",
    "    - Visualisation of each variable \n",
    "    - Outlier detection\n",
    "3. Exploring the interaction of two or more variables\n",
    "    - Visualisation techniques\n",
    "    - Correlation matrices \n",
    "\n",
    "<br>\n",
    "\n",
    "**How to clean up a dataset:**  \n",
    "1. Dealing with unuseful data\n",
    "2. Dealing with NAs\n",
    "3. Dealing with outliers\n",
    "\n",
    "<br>\n",
    "\n",
    "**Creating new features with Feature Engineering:**\n",
    "1. Many new variables from datetime objects\n",
    "2. Changing data type (e.g. continuous to categorical)\n",
    "3. Creating dummy variables\n",
    "4. Creating new variables using the sum, product, difference of two or more variables\n",
    "5. Using your imagination for more \n",
    "\n",
    "<br>\n",
    "<br>\n",
    "Further you can find application to the methods and techniques described above. This is a general EDA and preprocessing analysis that can be used later for modeling. \n",
    "\n",
    "[Link to dataset](https://www.kaggle.com/carrie1/ecommerce-data):\n",
    "\n",
    "\n",
    "\"This is a transnational data set which contains all the transactions occurring between 01/12/2010 and 09/12/2011 for a UK-based and registered non-store online retail.The company mainly sells unique all-occasion gifts. Many customers of the company are wholesalers.\"\n"
   ]
  },
  {
   "cell_type": "code",
   "execution_count": null,
   "metadata": {},
   "outputs": [],
   "source": [
    "# Packages\n",
    "import pandas as pd\n",
    "import numpy as np\n",
    "import matplotlib.pyplot as plt\n",
    "import seaborn as sns\n",
    "import os\n",
    "from datetime import date\n",
    "%matplotlib inline"
   ]
  },
  {
   "cell_type": "code",
   "execution_count": null,
   "metadata": {},
   "outputs": [],
   "source": [
    "# Data \n",
    "data = pd.read_csv('data/data.csv')"
   ]
  },
  {
   "cell_type": "code",
   "execution_count": null,
   "metadata": {},
   "outputs": [],
   "source": [
    "data.head()"
   ]
  },
  {
   "cell_type": "markdown",
   "metadata": {},
   "source": [
    "### Exploratory Data Analysis"
   ]
  },
  {
   "cell_type": "markdown",
   "metadata": {},
   "source": [
    "##### <div align=\"center\">  Metadata </div>        \n",
    "\n",
    "| **Column Name** |     **Description**  |  \n",
    "|----------       |:-------------:       |\n",
    "| InvoiceNo       |  Invoice Number      |\n",
    "| StockCode       |  Product code        |\n",
    "| Description     |  Product description |\n",
    "| Quantity        |  Number of purchased items |\n",
    "| InvoiceDate     |  Invoice Date        |\n",
    "| UnitPrice       |  Price for one item  |\n",
    "| CustomerID      |  Customer ID         |\n",
    "| Country         |  Customer's country  |"
   ]
  },
  {
   "cell_type": "code",
   "execution_count": null,
   "metadata": {},
   "outputs": [],
   "source": [
    "# General information about dataset\n",
    "data.info()"
   ]
  },
  {
   "cell_type": "code",
   "execution_count": null,
   "metadata": {},
   "outputs": [],
   "source": [
    "# Change data types \n",
    "data['InvoiceDate'] = pd.to_datetime(data['InvoiceDate'])\n",
    "data['CustomerID'] = data['CustomerID'].astype('O')"
   ]
  },
  {
   "cell_type": "code",
   "execution_count": null,
   "metadata": {},
   "outputs": [],
   "source": [
    "# Describe numerical variables\n",
    "data.describe()"
   ]
  },
  {
   "cell_type": "code",
   "execution_count": null,
   "metadata": {},
   "outputs": [],
   "source": [
    "# Describe categorical variables\n",
    "data.describe(include = 'object')"
   ]
  },
  {
   "cell_type": "markdown",
   "metadata": {},
   "source": [
    "### 1.Dealing with NAs"
   ]
  },
  {
   "cell_type": "code",
   "execution_count": null,
   "metadata": {},
   "outputs": [],
   "source": [
    "# Number of NAs and Percentage of NAs in dataset\n",
    "data_nas = pd.DataFrame(data.isna().sum(), columns=['Number of NAs'])\n",
    "data_nas['Percentage of NAs'] = round(data_nas['Number of NAs'] / data.shape[0] *100, 3)\n",
    "data_nas"
   ]
  },
  {
   "cell_type": "markdown",
   "metadata": {},
   "source": [
    "The main goal of this EDA and future analysis is to understand the behavior of company customers, which is why we need to remove NAs in 'CustomerID' column. Moreover, by removing these values from 'Customer ID' we clean 'Description' NAs as well."
   ]
  },
  {
   "cell_type": "code",
   "execution_count": null,
   "metadata": {},
   "outputs": [],
   "source": [
    "data.dropna(subset=['CustomerID'], inplace=True)"
   ]
  },
  {
   "cell_type": "markdown",
   "metadata": {},
   "source": [
    "### 2. Exploring each variable separately"
   ]
  },
  {
   "cell_type": "code",
   "execution_count": null,
   "metadata": {},
   "outputs": [],
   "source": [
    "print(\"Numbers of observations: \", data.shape[0])\n",
    "print(\"Numbers of unique invoices: \", data.InvoiceNo.nunique())\n",
    "print('Number of unique customers: ', data.CustomerID.nunique())\n",
    "print('Numbere of unique products:', data.StockCode.nunique())"
   ]
  },
  {
   "cell_type": "markdown",
   "metadata": {},
   "source": [
    "Here we can see the huge difference between number of observations and numbers of unique orders, which means that database has no order level structure. "
   ]
  },
  {
   "cell_type": "markdown",
   "metadata": {},
   "source": [
    "##### Continuous data visualisation"
   ]
  },
  {
   "cell_type": "code",
   "execution_count": null,
   "metadata": {},
   "outputs": [],
   "source": [
    "sns.distplot(data.Quantity)\n",
    "plt.axvline(data.Quantity.mean(), color='k', linestyle='dashed', linewidth=1)\n",
    "plt.axvline(data.Quantity.median(), color='r', linewidth=1)\n",
    "plt.title('Distribution of variable \"Quantity\"')\n",
    "plt.xlabel(\"Quantity\")"
   ]
  },
  {
   "cell_type": "code",
   "execution_count": null,
   "metadata": {},
   "outputs": [],
   "source": [
    "sns.distplot(data.UnitPrice)\n",
    "plt.axvline(data.UnitPrice.mean(), color='k', linestyle='dashed', linewidth=1)\n",
    "plt.axvline(data.UnitPrice.median(), color='r', linewidth=1)\n",
    "plt.title('Distribution of variable \"UnitPrice\"')\n",
    "plt.xlabel(\"UnitPrice\")"
   ]
  },
  {
   "cell_type": "markdown",
   "metadata": {},
   "source": [
    "Both of the above graphs show that we have outliers for both variables. We will explore them more deeply."
   ]
  },
  {
   "cell_type": "code",
   "execution_count": null,
   "metadata": {},
   "outputs": [],
   "source": [
    "# Datetime variable\n",
    "data['InvoiceDate'].describe()"
   ]
  },
  {
   "cell_type": "markdown",
   "metadata": {},
   "source": [
    "In analyzing customer behavior, date and time variables will play a major role in solving various types of problems. This will be useful later in the analysis of retention, loyalty, segmentation, etc. "
   ]
  },
  {
   "cell_type": "markdown",
   "metadata": {},
   "source": [
    "##### Categorical data visualisation"
   ]
  },
  {
   "cell_type": "code",
   "execution_count": null,
   "metadata": {
    "scrolled": true
   },
   "outputs": [],
   "source": [
    "plt.figure(figsize=(8,5))\n",
    "sns.countplot(data['Country'])\n",
    "plt.title('Frequency of variable \"Country\"')\n",
    "plt.xlabel(\"Country\")\n",
    "plt.ylabel(\"Frequency in each class\")\n",
    "plt.xticks(rotation = 70)"
   ]
  },
  {
   "cell_type": "markdown",
   "metadata": {},
   "source": [
    "Most customers are based in UK. From the point of view of the 'Country' variable, the data is highly imbalanced.\n",
    "<br>\n",
    "<br>\n",
    "There is no need to visualize other categorical variables, because these variables have many unique values and we can't gain any valuable information from it."
   ]
  },
  {
   "cell_type": "markdown",
   "metadata": {},
   "source": [
    "### 3. Outlier detection"
   ]
  },
  {
   "cell_type": "code",
   "execution_count": null,
   "metadata": {},
   "outputs": [],
   "source": [
    "data.Quantity.describe()"
   ]
  },
  {
   "cell_type": "code",
   "execution_count": null,
   "metadata": {},
   "outputs": [],
   "source": [
    "data.UnitPrice.describe()"
   ]
  },
  {
   "cell_type": "code",
   "execution_count": null,
   "metadata": {},
   "outputs": [],
   "source": [
    "# Exploring large values  of 'UnitPrice' variable\n",
    "larges = data[data['UnitPrice']>=500]\n",
    "sns.scatterplot(larges['UnitPrice'], larges['Quantity'])\n",
    "plt.title('Scatterplot of \"Unit Price\" and \"Quantity\"')\n",
    "plt.xlabel(\"Unit Price\")\n",
    "plt.ylabel(\"Quantity\")"
   ]
  },
  {
   "cell_type": "code",
   "execution_count": null,
   "metadata": {},
   "outputs": [],
   "source": [
    "#Let's look at categorical variables of this part of the data once again\n",
    "larges.describe(include = 'object')"
   ]
  },
  {
   "cell_type": "code",
   "execution_count": null,
   "metadata": {},
   "outputs": [],
   "source": [
    "# Unique values of 'StockCode' variable.\n",
    "larges.StockCode.unique()"
   ]
  },
  {
   "cell_type": "code",
   "execution_count": null,
   "metadata": {},
   "outputs": [],
   "source": [
    "# Unique values of 'Description' variable.\n",
    "larges.Description.unique()"
   ]
  },
  {
   "cell_type": "markdown",
   "metadata": {},
   "source": [
    "**Some assumptions:**\n",
    "1. From the plot above and from the description of the 'Quantity' variable, it is clear that we have a lot of data issues. First of all, the quantity variable cannot take a negative value. Moreover, our maximum value is very large. It is doubtful that a customer can buy the same product so many times. \n",
    "<br>\n",
    "<br>\n",
    "2. Next variable with outliers is 'UnitPrice'. The only problem with this is the very large values.To understand the reasons for their occurrence, we only consider observations at unit prices of 500 or more. Some interesting relations can be found:\n",
    "    <br>\n",
    "    2.1 High unit prices mostly have negative values for the Quantity variable. \n",
    "    <br>\n",
    "    2.2 The variables 'StockCode 'and' Description 'show that these observations are basically not ordinary products.  \n",
    "<br>\n",
    "<br>\n",
    "\n",
    "**What to do next:**\n",
    "1. Remove negative and very large values from 'Quantity' variable.\n",
    "2. Remove StockCode and Description values which do not apply to usual products."
   ]
  },
  {
   "cell_type": "code",
   "execution_count": null,
   "metadata": {},
   "outputs": [],
   "source": [
    "# Remove negative values from 'Quantity' variable and very large values of 'Quantity' variable\n",
    "filtered = data[data['Quantity'] >= 0]\n",
    "filtered = filtered[filtered['Quantity']<5000]"
   ]
  },
  {
   "cell_type": "code",
   "execution_count": null,
   "metadata": {},
   "outputs": [],
   "source": [
    "# Remove not real product codes from StockCode and very large values of 'Unit Price' variable\n",
    "vals = ['M', 'D', 'POST',  'DOT', 'CRUK']\n",
    "filtered = filtered[~filtered['StockCode'].isin(vals)]\n",
    "\n",
    "filtered = filtered[filtered['UnitPrice']<500]"
   ]
  },
  {
   "cell_type": "markdown",
   "metadata": {},
   "source": [
    "### 4. Feature engineering"
   ]
  },
  {
   "cell_type": "markdown",
   "metadata": {},
   "source": [
    "Creating new variables will help to find more relations in data. They may be used in later analysis as well."
   ]
  },
  {
   "cell_type": "code",
   "execution_count": null,
   "metadata": {},
   "outputs": [],
   "source": [
    "filtered['TotalPrice'] = filtered['Quantity'] * filtered['UnitPrice']\n",
    "filtered['OrderHour'] = filtered.InvoiceDate.dt.hour\n",
    "filtered['OrderMonth'] = filtered.InvoiceDate.dt.month\n",
    "filtered['OrderWeekday'] = filtered.InvoiceDate.dt.weekday\n"
   ]
  },
  {
   "cell_type": "markdown",
   "metadata": {},
   "source": [
    "### 5. Exploring interaction of two or more variables"
   ]
  },
  {
   "cell_type": "code",
   "execution_count": null,
   "metadata": {},
   "outputs": [],
   "source": [
    "num_cols = ['Quantity', \"UnitPrice\", 'TotalPrice', 'OrderHour', 'OrderMonth']\n",
    "sns.pairplot(filtered, vars = num_cols)"
   ]
  },
  {
   "cell_type": "code",
   "execution_count": null,
   "metadata": {},
   "outputs": [],
   "source": [
    "corr = filtered[num_cols].corr()\n",
    "\n",
    "plt.figure(num=None, figsize=(8, 6), dpi=80, facecolor='w', edgecolor='k')\n",
    "ax = sns.heatmap(corr, vmin=-1, vmax=1, center=0, annot=corr)"
   ]
  },
  {
   "cell_type": "markdown",
   "metadata": {},
   "source": [
    "The only relationship we can find is between Quantity and Total price, which has an obvious reason: TotalPrice was created from multiplying Quantity and Unit prices."
   ]
  },
  {
   "cell_type": "code",
   "execution_count": null,
   "metadata": {},
   "outputs": [],
   "source": [
    "sns.barplot( x=filtered[\"OrderWeekday\"], y = filtered[\"Quantity\"] )\n",
    "plt.title('Barplot of \"OrderWeekday\" and \"Quantity\" variables')\n",
    "plt.xlabel(\"Variable 'OrderWeekday'\")\n",
    "plt.ylabel(\"Variable 'Quantity'\")\n",
    "plt.xticks(rotation=50)"
   ]
  },
  {
   "cell_type": "code",
   "execution_count": null,
   "metadata": {},
   "outputs": [],
   "source": [
    "sns.barplot( x=filtered[\"OrderMonth\"], y = filtered[\"Quantity\"] )\n",
    "plt.title('Barplot of \"OrderMonth\" and \"Quantity\" variables')\n",
    "plt.xlabel(\"Variable 'OrderMonth'\")\n",
    "plt.ylabel(\"Variable 'Quantity'\")\n",
    "plt.xticks(rotation=50)"
   ]
  },
  {
   "cell_type": "code",
   "execution_count": null,
   "metadata": {},
   "outputs": [],
   "source": [
    "sns.barplot( x=filtered[\"OrderHour\"], y = filtered[\"Quantity\"] )\n",
    "plt.title('Barplot of \"OrderHour\" and \"Quantity\" variables')\n",
    "plt.xlabel(\"Variable 'OrderHour'\")\n",
    "plt.ylabel(\"Variable 'Quantity'\")\n",
    "plt.xticks(rotation=50)"
   ]
  },
  {
   "cell_type": "markdown",
   "metadata": {},
   "source": [
    "The relation between time variables and 'Quantity' variable:\n",
    "\n",
    "- Minimum order quantity reached on Sunday.\n",
    "- November has the least quantity of ordered products. \n",
    "- Customers usually make purchases at 7am."
   ]
  },
  {
   "cell_type": "markdown",
   "metadata": {},
   "source": [
    "**Conclusion**\n",
    "\n",
    "This is just an example of EDA and data preprocessing that you can conduct. You can dig deeper, find more relationships, add more data and everything you can think of. This is an art and you're the master!\n",
    "\n",
    "More importantly, this is just the beginning. We will use this data, knowledge and intuition, which we obtained as a result of this analysis, to go further and solve many problems related to customer behavior.\n",
    "\n",
    "**Further Reading**\n",
    "<br>\n",
    "[1] [Doing Data Science](https://www.oreilly.com/library/view/doing-data-science/9781449363871/)\n",
    "<br>\n",
    "[2] [R for Marketing Research and Analytics](https://www.springer.com/gp/book/9783030143152)"
   ]
  }
 ],
 "metadata": {
  "kernelspec": {
   "display_name": "Python 3",
   "language": "python",
   "name": "python3"
  },
  "language_info": {
   "codemirror_mode": {
    "name": "ipython",
    "version": 3
   },
   "file_extension": ".py",
   "mimetype": "text/x-python",
   "name": "python",
   "nbconvert_exporter": "python",
   "pygments_lexer": "ipython3",
   "version": "3.7.10"
  }
 },
 "nbformat": 4,
 "nbformat_minor": 2
}
